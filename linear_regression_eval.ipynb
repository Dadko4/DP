{
 "cells": [
  {
   "cell_type": "code",
   "execution_count": 386,
   "metadata": {},
   "outputs": [],
   "source": [
    "import numpy as np\n",
    "import os\n",
    "import pickle\n",
    "from bayes_opt import BayesianOptimization\n",
    "from xgboost.sklearn import XGBClassifier\n",
    "from sklearn.preprocessing import MinMaxScaler\n",
    "# import lsanomaly\n",
    "import copy\n",
    "from sklearn.model_selection import train_test_split\n",
    "from sklearn.metrics import accuracy_score, plot_confusion_matrix\n",
    "from sklearn.linear_model import LogisticRegression as LR\n",
    "from sklearn.feature_selection import SelectKBest\n",
    "from sklearn.linear_model import LogisticRegression\n",
    "import warnings\n",
    "warnings.filterwarnings(\"ignore\")\n",
    "np.random.seed(1)"
   ]
  },
  {
   "cell_type": "code",
   "execution_count": 387,
   "metadata": {},
   "outputs": [],
   "source": [
    "with open(\"X.pickle\",\"rb\") as f:\n",
    "    scaler = pickle.load(f)\n",
    "    X_without = pickle.load(f)\n",
    "    X_without_val = pickle.load(f)\n",
    "    X_with = pickle.load(f)\n",
    "\n",
    "best_score = 0\n",
    "best_params = None\n",
    "best_model = None\n",
    "y_val = None\n",
    "y_test = None"
   ]
  },
  {
   "cell_type": "code",
   "execution_count": 388,
   "metadata": {},
   "outputs": [],
   "source": [
    "y_without = np.zeros(X_without.shape[0])\n",
    "y_without_val = np.zeros(X_without_val.shape[0])\n",
    "y_with = np.ones(X_with.shape[0])"
   ]
  },
  {
   "cell_type": "code",
   "execution_count": 389,
   "metadata": {},
   "outputs": [],
   "source": [
    "X = np.concatenate((X_without, X_without_val, X_with), axis=0)\n",
    "y = np.concatenate((y_without, y_without_val, y_with), axis=0)"
   ]
  },
  {
   "cell_type": "code",
   "execution_count": 390,
   "metadata": {},
   "outputs": [],
   "source": [
    "X_train, X_test, y_train, y_test = train_test_split(X, y, stratify=y, test_size=0.25)"
   ]
  },
  {
   "cell_type": "code",
   "execution_count": 391,
   "metadata": {},
   "outputs": [
    {
     "data": {
      "text/plain": [
       "LogisticRegression(class_weight='balanced', max_iter=1000, n_jobs=15, tol=1e-08)"
      ]
     },
     "execution_count": 391,
     "metadata": {},
     "output_type": "execute_result"
    }
   ],
   "source": [
    "kbest = SelectKBest(k=6)\n",
    "X_train = kbest.fit_transform(X_train, y_train)\n",
    "\n",
    "# scale = y_train[y_train==0].shape[0]/y_train[y_train==1].shape[0]\n",
    "\n",
    "# clf = XGBClassifier(max_depth=15, n_estimators=300, scale_pos_weight=scale,\n",
    "#                     tree_method='gpu_hist')\n",
    "clf = LR(class_weight='balanced', max_iter=1000, tol=1e-8, n_jobs=15)\n",
    "clf.fit(X_train, y_train)"
   ]
  },
  {
   "cell_type": "code",
   "execution_count": 392,
   "metadata": {},
   "outputs": [],
   "source": [
    "idx = np.random.randint(0, y_test[y_test==1].shape[0], y_test[y_test==1].shape[0])\n",
    "idxs = np.concatenate((np.where(y_test==0)[0][idx], np.where(y_test==1)[0][idx]), axis=0)\n",
    "score = accuracy_score(clf.predict(kbest.transform(X_test[idxs])), y_test[idxs])"
   ]
  },
  {
   "cell_type": "code",
   "execution_count": 275,
   "metadata": {},
   "outputs": [
    {
     "data": {
      "text/plain": [
       "0.6348528015194682"
      ]
     },
     "execution_count": 275,
     "metadata": {},
     "output_type": "execute_result"
    }
   ],
   "source": [
    "score"
   ]
  },
  {
   "cell_type": "code",
   "execution_count": 376,
   "metadata": {},
   "outputs": [
    {
     "name": "stdout",
     "output_type": "stream",
     "text": [
      "False positive rate:  0.37274453941120606\n"
     ]
    },
    {
     "data": {
      "image/png": "[encoded data removed]",
      "text/plain": [
       "<Figure size 432x288 with 2 Axes>"
      ]
     },
     "metadata": {
      "needs_background": "light"
     },
     "output_type": "display_data"
    }
   ],
   "source": [
    "y_pred = clf.predict(kbest.transform(X_test[idxs]))\n",
    "tn, fp, fn, tp = confusion_matrix(y_test[idxs], y_pred).ravel()\n",
    "plot_confusion_matrix(clf, kbest.transform(X_test[idxs]), y_test[idxs])\n",
    "print(\"False positive rate: \", 785 / (1321 + 785))"
   ]
  },
  {
   "cell_type": "code",
   "execution_count": 393,
   "metadata": {},
   "outputs": [],
   "source": [
    "from sklearn.cluster import KMeans\n",
    "kmeans = KMeans(n_clusters=2, random_state=0).fit(X_train)"
   ]
  },
  {
   "cell_type": "code",
   "execution_count": 426,
   "metadata": {},
   "outputs": [
    {
     "data": {
      "text/plain": [
       "0.5721747388414055"
      ]
     },
     "execution_count": 426,
     "metadata": {},
     "output_type": "execute_result"
    }
   ],
   "source": [
    "idx = np.random.randint(0, y_test[y_test==1].shape[0], y_test[y_test==1].shape[0])\n",
    "idxs = np.concatenate((np.where(y_test==0)[0][idx], np.where(y_test==1)[0][idx]), axis=0)\n",
    "score = accuracy_score(kmeans.predict(kbest.transform(X_test[idxs])), y_test[idxs])\n",
    "score"
   ]
  },
  {
   "cell_type": "code",
   "execution_count": 427,
   "metadata": {},
   "outputs": [
    {
     "name": "stdout",
     "output_type": "stream",
     "text": [
      "1435 671 1131 975\n",
      "False positive rate:  0.31861348528015193\n"
     ]
    }
   ],
   "source": [
    "y_pred = kmeans.predict(kbest.transform(X_test[idxs]))\n",
    "tn, fp, fn, tp = confusion_matrix(y_test[idxs], y_pred).ravel()\n",
    "print(tn, fp, fn, tp)\n",
    "print(\"False positive rate: \", fp/(fp + tn))"
   ]
  }
 ],
 "metadata": {
  "kernelspec": {
   "display_name": "Python 3",
   "language": "python",
   "name": "python3"
  },
  "language_info": {
   "codemirror_mode": {
    "name": "ipython",
    "version": 3
   },
   "file_extension": ".py",
   "mimetype": "text/x-python",
   "name": "python",
   "nbconvert_exporter": "python",
   "pygments_lexer": "ipython3",
   "version": "3.6.9"
  }
 },
 "nbformat": 4,
 "nbformat_minor": 4
}
