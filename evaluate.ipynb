{
 "cells": [
  {
   "cell_type": "code",
   "execution_count": 1,
   "metadata": {},
   "outputs": [],
   "source": [
    "from data_loader import DataGenerator\n",
    "from datetime import datetime\n",
    "from model import model_builder\n",
    "from tensorflow.keras.callbacks import (EarlyStopping, ReduceLROnPlateau,\n",
    "                                        ModelCheckpoint, TensorBoard)\n",
    "from tensorflow.keras.models import load_model\n",
    "from tensorflow.keras.backend import clear_session\n",
    "import numpy as np\n",
    "import warnings\n",
    "from config import (model_config, data_generator_config, load_from_file,\n",
    "                    n_epochs, model_name, tb_logs_path, model_checkpoint_file, test_seq_path)\n",
    "from tensorflow.keras.losses import MSE, MAE\n",
    "from tqdm import tqdm\n",
    "from sklearn.metrics import precision_recall_fscore_support as prf_score\n",
    "from sklearn.metrics import accuracy_score\n",
    "from matplotlib import pyplot as plt\n",
    "from tqdm import tqdm\n",
    "np.set_printoptions(suppress=True)\n",
    "n_batches = 320"
   ]
  },
  {
   "cell_type": "code",
   "execution_count": 49,
   "metadata": {},
   "outputs": [],
   "source": [
    "def get_err_of_model(model, X, err_f, shape):\n",
    "    preds = model.predict(X)\n",
    "    errs = err_f(X.reshape(shape), preds.reshape(shape))\n",
    "    err_of_mods = []\n",
    "    for i, m_ix in enumerate(modifs_idx):\n",
    "        if m_ix.shape[0] > 3 and m_ix.shape[0] < 50:\n",
    "            err_of_mods.append(err_f(X[i, m_ix].flatten(),\n",
    "                                     preds[i, m_ix].flatten()))\n",
    "    overall_err_med = np.median(errs)\n",
    "    overall_err_mean = np.mean(errs)\n",
    "    mods_err_med = np.median(err_of_mods)\n",
    "    mods_err_mean = np.mean(err_of_mods)\n",
    "    return {\"err (med, mean)\": (overall_err_med, overall_err_mean), \n",
    "            \"modifications_err (med, mean)\": (mods_err_med, mods_err_mean)}\n",
    "\n",
    "def rolling_window(a, window):\n",
    "    shape = a.shape[:-1] + (a.shape[-1] - window + 1, window)\n",
    "    strides = a.strides + (a.strides[-1],)\n",
    "    return np.lib.stride_tricks.as_strided(a, shape=shape, strides=strides)\n",
    "\n",
    "# def get_roll_mses(signal, pred):\n",
    "#     roll_mses = []\n",
    "#     for idx in rolling_window(np.arange(signal.shape[0]), 25):\n",
    "#         roll_mses.append(np.median(MSE(signal[idx], pred[idx])))\n",
    "#     return np.array(roll_mses)\n",
    "\n",
    "def get_roll_mses(mse):\n",
    "    roll_mses = []\n",
    "    for idx in rolling_window(np.arange(mse.shape[0]), 12):\n",
    "        roll_mses.append(np.median(mse))\n",
    "    return np.array(roll_mses)\n",
    "\n",
    "# def get_y_from_rolling(X, preds, modifs_idx, threshold):\n",
    "#     y_true = []\n",
    "#     y_pred = []\n",
    "#     for sample, pred, mod_ix in tqdm(zip(X, preds, modifs_idx)):\n",
    "#         mses = get_roll_mses(sample, pred)\n",
    "#         if np.where(mses > threshold):\n",
    "#             y_pred.append(1)\n",
    "#         else:\n",
    "#             y_pred.append(0)\n",
    "#         if mod_ix.shape[0] > 1:\n",
    "#             y_true.append(1)\n",
    "#         else:\n",
    "#             y_true.append(0)\n",
    "#     return y_true, y_pred"
   ]
  },
  {
   "cell_type": "code",
   "execution_count": 3,
   "metadata": {},
   "outputs": [
    {
     "data": {
      "text/plain": [
       "{'sample_len': 512,\n",
       " 'batch_size': 1000,\n",
       " 'quality_threshold': 20.5,\n",
       " 'normalize': 'MEDIAN',\n",
       " 'random_sample': True,\n",
       " 'step_len': 64,\n",
       " 'load2ram': False,\n",
       " 'test': True,\n",
       " 'seq_path': '/tf/puc19/nanopore/MAP_Data/08_07_16_R9_pUC_BC/MA/downloads/pass/NB08/*.fast5'}"
      ]
     },
     "execution_count": 3,
     "metadata": {},
     "output_type": "execute_result"
    }
   ],
   "source": [
    "data_generator_config['quality_threshold'] = 20.5\n",
    "data_generator_config['test'] = True\n",
    "data_generator_config['seq_path'] = test_seq_path\n",
    "data_generator_config['load2ram'] = False\n",
    "data_generator_config['step_len'] = 64\n",
    "# data_generator_config['motifs'] = [\"CCAGG\", \"CCTGG\", \"GATC\"]\n",
    "data_generator_config"
   ]
  },
  {
   "cell_type": "code",
   "execution_count": 4,
   "metadata": {
    "scrolled": true
   },
   "outputs": [
    {
     "name": "stdout",
     "output_type": "stream",
     "text": [
      "/tf/puc19/nanopore/MAP_Data/08_07_16_R9_pUC_BC/MA/downloads/pass/NB08/*.fast5\n"
     ]
    }
   ],
   "source": [
    "data_loader = DataGenerator(**data_generator_config)"
   ]
  },
  {
   "cell_type": "code",
   "execution_count": 5,
   "metadata": {
    "scrolled": true
   },
   "outputs": [
    {
     "name": "stderr",
     "output_type": "stream",
     "text": [
      " 13%|█▎        | 43/320 [01:05<04:36,  1.00it/s]"
     ]
    },
    {
     "name": "stdout",
     "output_type": "stream",
     "text": [
      "unable to open file /tf/puc19/nanopore/MAP_Data/08_07_16_R9_pUC_BC/MA/downloads/pass/NB08/makeson_PC_20160809_FNFAD20242_MN17284_sequencing_run_MA_470_R9_pUC_g_PCR_BC_2_08_07_16_80510_ch180_read404_strand.fast5\n"
     ]
    },
    {
     "name": "stderr",
     "output_type": "stream",
     "text": [
      " 89%|████████▉ | 285/320 [07:24<00:33,  1.06it/s]"
     ]
    },
    {
     "name": "stdout",
     "output_type": "stream",
     "text": [
      "unable to open file /tf/puc19/nanopore/MAP_Data/08_07_16_R9_pUC_BC/MA/downloads/pass/NB08/makeson_PC_20160807_FNFAD20242_MN17284_sequencing_run_MA_470_R9_pUC_g_PCR_BC_08_07_16_93165_ch432_read1037_strand.fast5\n"
     ]
    },
    {
     "name": "stderr",
     "output_type": "stream",
     "text": [
      "100%|██████████| 320/320 [08:15<00:00,  1.55s/it]\n"
     ]
    }
   ],
   "source": [
    "X = []\n",
    "modifs_idx = []\n",
    "modifs_type = []\n",
    "for _ in tqdm(range(n_batches)):\n",
    "    x, m_idx, type_ = next(data_loader)\n",
    "    X.append(x)\n",
    "    modifs_idx.append(m_idx)\n",
    "    modifs_type.append(type_)"
   ]
  },
  {
   "cell_type": "code",
   "execution_count": 14,
   "metadata": {},
   "outputs": [],
   "source": [
    "X = np.array(X).reshape(n_batches*data_loader.batch_size, \n",
    "                        data_loader.sample_len, 1)\n",
    "shape_ = (n_batches*data_loader.batch_size, data_loader.sample_len)\n",
    "modifs_idx = np.array(modifs_idx).reshape(shape_[0])\n",
    "modifs_idx = modifs_idx.flatten()"
   ]
  },
  {
   "cell_type": "code",
   "execution_count": 17,
   "metadata": {},
   "outputs": [
    {
     "name": "stdout",
     "output_type": "stream",
     "text": [
      "MSE:  {'err (med, mean)': (0.026580337, 0.027800487), 'modifications_err (med, mean)': (0.073230974, 0.089759864)}\n",
      "MAE:  {'err (med, mean)': (0.11655973, 0.11715461), 'modifications_err (med, mean)': (0.20279285, 0.21518749)}\n"
     ]
    }
   ],
   "source": [
    "from tensorflow.keras import layers\n",
    "clear_session()\n",
    "model64 = load_model(r\"1612/4_layers_CNN_mse.h5\", custom_objects={'ELU': layers.ELU})\n",
    "print(\"MSE: \", get_err_of_model(model64, X, MSE, shape_))\n",
    "print(\"MAE: \", get_err_of_model(model64, X, MAE, shape_))"
   ]
  },
  {
   "cell_type": "code",
   "execution_count": 18,
   "metadata": {},
   "outputs": [
    {
     "name": "stdout",
     "output_type": "stream",
     "text": [
      "MSE:  {'err (med, mean)': (0.0546649, 0.056675885), 'modifications_err (med, mean)': (0.12493844, 0.15795715)}\n",
      "MAE:  {'err (med, mean)': (0.17461228, 0.17549528), 'modifications_err (med, mean)': (0.28954852, 0.30992076)}\n"
     ]
    }
   ],
   "source": [
    "from tensorflow.keras import layers\n",
    "clear_session()\n",
    "model32 = load_model(r\"1312/4_layers_CNN_mse.h5\", custom_objects={'ELU': layers.ELU})\n",
    "print(\"MSE: \", get_err_of_model(model32, X, MSE, shape_))\n",
    "print(\"MAE: \", get_err_of_model(model32, X, MAE, shape_))"
   ]
  },
  {
   "cell_type": "code",
   "execution_count": 19,
   "metadata": {},
   "outputs": [],
   "source": [
    "data_generator_config['quality_threshold'] = 14\n",
    "data_generator_config['test'] = False"
   ]
  },
  {
   "cell_type": "code",
   "execution_count": 93,
   "metadata": {},
   "outputs": [],
   "source": [
    "preds32 = model32.predict(X)\n",
    "preds64 = model64.predict(X)\n",
    "X_shaped = X.reshape(shape_)\n",
    "preds_shaped = preds32.reshape(shape_)\n",
    "preds_shaped = preds64.reshape(shape_)"
   ]
  },
  {
   "cell_type": "code",
   "execution_count": 94,
   "metadata": {
    "scrolled": true
   },
   "outputs": [
    {
     "name": "stdout",
     "output_type": "stream",
     "text": [
      "(81792,)\n",
      "(235494,)\n"
     ]
    }
   ],
   "source": [
    "with_modif = np.array([i for i, ix in enumerate(modifs_idx) if 3 < len(ix) < 50])\n",
    "without_modif = np.array([i for i, ix in enumerate(modifs_idx) if not len(ix)])\n",
    "print(with_modif.shape)\n",
    "print(without_modif.shape)"
   ]
  },
  {
   "cell_type": "code",
   "execution_count": 95,
   "metadata": {},
   "outputs": [],
   "source": [
    "without_modif = without_modif[::2]"
   ]
  },
  {
   "cell_type": "code",
   "execution_count": 96,
   "metadata": {},
   "outputs": [],
   "source": [
    "X_cropped = X[:, 100:-100]\n",
    "preds_cropped32 = preds32[:, 100:-100]\n",
    "preds_cropped64 = preds64[:, 100:-100]"
   ]
  },
  {
   "cell_type": "code",
   "execution_count": 97,
   "metadata": {},
   "outputs": [],
   "source": [
    "modif_ix = []\n",
    "with_modif_in_middle = []\n",
    "for ix in with_modif:\n",
    "    if modifs_idx[ix][0] > 200 and modifs_idx[ix][-1] < 312:\n",
    "        modif_ix.append(modifs_idx[ix] - 100)\n",
    "        with_modif_in_middle.append(ix)\n",
    "with_modif_in_middle = np.array(with_modif_in_middle)"
   ]
  },
  {
   "cell_type": "code",
   "execution_count": 98,
   "metadata": {},
   "outputs": [
    {
     "name": "stderr",
     "output_type": "stream",
     "text": [
      "320000it [03:09, 1686.15it/s]\n",
      "320000it [03:11, 1668.94it/s]\n"
     ]
    }
   ],
   "source": [
    "mses32 = np.array([np.array(MSE(x, y)) \n",
    "                   for x, y in tqdm(zip(X_cropped, preds_cropped32))])\n",
    "mses64 = np.array([np.array(MSE(x, y)) \n",
    "                   for x, y in tqdm(zip(X_cropped, preds_cropped64))])"
   ]
  },
  {
   "cell_type": "code",
   "execution_count": 99,
   "metadata": {},
   "outputs": [],
   "source": [
    "without_modif_set = set(without_modif)\n",
    "with_modif_in_middle_set = set(with_modif_in_middle)\n",
    "if len(without_modif_set.intersection(set(with_modif_in_middle))):\n",
    "    raise ValueError(\"hmm\")"
   ]
  },
  {
   "cell_type": "code",
   "execution_count": null,
   "metadata": {},
   "outputs": [
    {
     "name": "stderr",
     "output_type": "stream",
     "text": [
      "  5%|▌         | 17061/320000 [09:28<3:21:30, 25.06it/s]"
     ]
    }
   ],
   "source": [
    "median_rolled_mses_without32 = []\n",
    "median_rolled_mses_with32 = []\n",
    "avg_mse_without32 = []\n",
    "avg_mse_with32 = []\n",
    "\n",
    "median_rolled_mses_without64 = []\n",
    "median_rolled_mses_with64 = []\n",
    "avg_mse_without64 = []\n",
    "avg_mse_with64 = []\n",
    "\n",
    "for idx in tqdm(range(len(mses))):\n",
    "    if idx not in without_modif_set and idx not in with_modif_in_middle_set:\n",
    "        continue\n",
    "    if idx in without_modif_set:\n",
    "        median_rolled_mses_without32.append(get_roll_mses(mses32[idx]))\n",
    "        median_rolled_mses_without64.append(get_roll_mses(mses64[idx]))\n",
    "        avg_mse_without32.append(mses32[idx].mean())\n",
    "        avg_mse_without64.append(mses64[idx].mean())\n",
    "    if idx in with_modif_in_middle_set:\n",
    "        median_rolled_mses_with32.append(get_roll_mses(mses32[idx]))\n",
    "        median_rolled_mses_with64.append(get_roll_mses(mses64[idx]))\n",
    "        avg_mse_with32.append(mses32[idx].mean())\n",
    "        avg_mse_with64.append(mses64[idx].mean())"
   ]
  },
  {
   "cell_type": "code",
   "execution_count": 51,
   "metadata": {
    "scrolled": true
   },
   "outputs": [
    {
     "name": "stdout",
     "output_type": "stream",
     "text": [
      "2:44:04.370926\n"
     ]
    }
   ],
   "source": [
    "# now = datetime.now()\n",
    "# avg_mse_without = mses[list(without_modif)].mean(1)\n",
    "# avg_mse_with = mses[list(with_modif_in_middle)].mean(1)\n",
    "# median_rolled_mses_without = np.apply_along_axis(get_roll_mses, 1, mses[list(without_modif)])\n",
    "# median_rolled_mses_with = np.apply_along_axis(get_roll_mses, 1, mses[list(with_modif_in_middle)])\n",
    "# print(datetime.now() - now)"
   ]
  },
  {
   "cell_type": "code",
   "execution_count": null,
   "metadata": {},
   "outputs": [],
   "source": []
  },
  {
   "cell_type": "code",
   "execution_count": 92,
   "metadata": {},
   "outputs": [
    {
     "data": {
      "image/png": "[encoded data removed]",
      "text/plain": [
       "<Figure size 432x288 with 1 Axes>"
      ]
     },
     "metadata": {
      "needs_background": "light"
     },
     "output_type": "display_data"
    }
   ],
   "source": [
    "p_min_without = np.percentile(avg_mse_without, 5)\n",
    "p_max_without = np.percentile(avg_mse_without, 95)\n",
    "p_min_with = np.percentile(avg_mse_with, 5)\n",
    "p_max_with = np.percentile(avg_mse_with, 95)\n",
    "without_ = avg_mse_without[(avg_mse_without > p_min_without) & (avg_mse_without < p_max_without)]\n",
    "with_ = avg_mse_with[(avg_mse_with > p_min_with) & (avg_mse_with < p_max_with)]\n",
    "plt.boxplot([without_, with_], labels=['bez modifikácie', 's modifikáciou'], positions=[0.45, 0.8])\n",
    "plt.grid(axis='y', color='#dee3df')\n",
    "plt.show()"
   ]
  },
  {
   "cell_type": "code",
   "execution_count": null,
   "metadata": {},
   "outputs": [],
   "source": [
    "# preds = model1.predict(X)\n",
    "from matplotlib import pyplot as plt\n",
    "x = np.arange(X[29].flatten().shape[0])\n",
    "plt.plot(x, X[29].flatten(), label=\"vstup\")\n",
    "plt.plot(x, preds[29].flatten(), label=\"výstup\")\n",
    "plt.legend()\n",
    "plt.show()"
   ]
  }
 ],
 "metadata": {
  "kernelspec": {
   "display_name": "Python 3",
   "language": "python",
   "name": "python3"
  },
  "language_info": {
   "codemirror_mode": {
    "name": "ipython",
    "version": 3
   },
   "file_extension": ".py",
   "mimetype": "text/x-python",
   "name": "python",
   "nbconvert_exporter": "python",
   "pygments_lexer": "ipython3",
   "version": "3.6.9"
  }
 },
 "nbformat": 4,
 "nbformat_minor": 4
}
