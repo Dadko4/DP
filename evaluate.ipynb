{
 "cells": [
  {
   "cell_type": "code",
   "execution_count": 255,
   "metadata": {},
   "outputs": [],
   "source": [
    "from data_loader import DataGenerator\n",
    "from datetime import datetime\n",
    "from model import model_builder\n",
    "from tensorflow.keras.callbacks import (EarlyStopping, ReduceLROnPlateau,\n",
    "                                        ModelCheckpoint, TensorBoard)\n",
    "from tensorflow.keras.models import load_model\n",
    "from tensorflow.keras.backend import clear_session\n",
    "import numpy as np\n",
    "import warnings\n",
    "from config import (model_config, data_generator_config, load_from_file,\n",
    "                    n_epochs, model_name, tb_logs_path, model_checkpoint_file, test_seq_path)\n",
    "from tensorflow.keras.losses import MSE, MAE\n",
    "from tqdm import tqdm\n",
    "from matplotlib import pyplot as plt\n",
    "from sklearn.metrics import precision_score, recall_score, accuracy_score\n",
    "from matplotlib import pyplot as plt\n",
    "from tqdm import tqdm\n",
    "np.set_printoptions(suppress=True)\n",
    "n_batches = 320"
   ]
  },
  {
   "cell_type": "code",
   "execution_count": 233,
   "metadata": {},
   "outputs": [],
   "source": [
    "def get_err_of_model(model, X, err_f, shape):\n",
    "    preds = model.predict(X)\n",
    "    errs = err_f(X.reshape(shape), preds.reshape(shape))\n",
    "    err_of_mods = []\n",
    "    for i, m_ix in enumerate(modifs_idx):\n",
    "        if m_ix.shape[0] > 3 and m_ix.shape[0] < 50:\n",
    "            err_of_mods.append(err_f(X[i, m_ix].flatten(),\n",
    "                                     preds[i, m_ix].flatten()))\n",
    "    overall_err_med = np.median(errs)\n",
    "    overall_err_mean = np.mean(errs)\n",
    "    mods_err_med = np.median(err_of_mods)\n",
    "    mods_err_mean = np.mean(err_of_mods)\n",
    "    return {\"err (med, mean)\": (overall_err_med, overall_err_mean), \n",
    "            \"modifications_err (med, mean)\": (mods_err_med, mods_err_mean)}\n",
    "\n",
    "def rolling_window(a, window):\n",
    "    shape = a.shape[:-1] + (a.shape[-1] - window + 1, window)\n",
    "    strides = a.strides + (a.strides[-1],)\n",
    "    return np.lib.stride_tricks.as_strided(a, shape=shape, strides=strides)\n",
    "\n",
    "def get_roll_mses(mse):\n",
    "    roll_mses = []\n",
    "    for idx in rolling_window(np.arange(mse.shape[0]), 4):\n",
    "        roll_mses.append(np.median(mse))\n",
    "    return np.array(roll_mses)\n",
    "\n",
    "def get_y(X, preds, mses, threshold):\n",
    "    y_true = []\n",
    "    y_pred = []\n",
    "    for sample, pred, mse in tqdm(zip(X, preds, mses)):\n",
    "        if np.where(mse > threshold):\n",
    "            y_pred.append(1)\n",
    "        else:\n",
    "            y_pred.append(0)\n",
    "    return y_pred"
   ]
  },
  {
   "cell_type": "code",
   "execution_count": 3,
   "metadata": {},
   "outputs": [
    {
     "data": {
      "text/plain": [
       "{'sample_len': 512,\n",
       " 'batch_size': 1000,\n",
       " 'quality_threshold': 20.5,\n",
       " 'normalize': 'MEDIAN',\n",
       " 'random_sample': True,\n",
       " 'step_len': 64,\n",
       " 'load2ram': False,\n",
       " 'test': True,\n",
       " 'seq_path': '/tf/puc19/nanopore/MAP_Data/08_07_16_R9_pUC_BC/MA/downloads/pass/NB08/*.fast5'}"
      ]
     },
     "execution_count": 3,
     "metadata": {},
     "output_type": "execute_result"
    }
   ],
   "source": [
    "data_generator_config['quality_threshold'] = 20.5\n",
    "data_generator_config['test'] = True\n",
    "data_generator_config['seq_path'] = test_seq_path\n",
    "data_generator_config['load2ram'] = False\n",
    "data_generator_config['step_len'] = 64\n",
    "# data_generator_config['motifs'] = [\"CCAGG\", \"CCTGG\", \"GATC\"]\n",
    "data_generator_config"
   ]
  },
  {
   "cell_type": "code",
   "execution_count": 4,
   "metadata": {
    "scrolled": true
   },
   "outputs": [
    {
     "name": "stdout",
     "output_type": "stream",
     "text": [
      "/tf/puc19/nanopore/MAP_Data/08_07_16_R9_pUC_BC/MA/downloads/pass/NB08/*.fast5\n"
     ]
    }
   ],
   "source": [
    "data_loader = DataGenerator(**data_generator_config)"
   ]
  },
  {
   "cell_type": "code",
   "execution_count": 5,
   "metadata": {
    "scrolled": true
   },
   "outputs": [
    {
     "name": "stderr",
     "output_type": "stream",
     "text": [
      " 13%|█▎        | 43/320 [01:05<04:36,  1.00it/s]"
     ]
    },
    {
     "name": "stdout",
     "output_type": "stream",
     "text": [
      "unable to open file /tf/puc19/nanopore/MAP_Data/08_07_16_R9_pUC_BC/MA/downloads/pass/NB08/makeson_PC_20160809_FNFAD20242_MN17284_sequencing_run_MA_470_R9_pUC_g_PCR_BC_2_08_07_16_80510_ch180_read404_strand.fast5\n"
     ]
    },
    {
     "name": "stderr",
     "output_type": "stream",
     "text": [
      " 89%|████████▉ | 285/320 [07:24<00:33,  1.06it/s]"
     ]
    },
    {
     "name": "stdout",
     "output_type": "stream",
     "text": [
      "unable to open file /tf/puc19/nanopore/MAP_Data/08_07_16_R9_pUC_BC/MA/downloads/pass/NB08/makeson_PC_20160807_FNFAD20242_MN17284_sequencing_run_MA_470_R9_pUC_g_PCR_BC_08_07_16_93165_ch432_read1037_strand.fast5\n"
     ]
    },
    {
     "name": "stderr",
     "output_type": "stream",
     "text": [
      "100%|██████████| 320/320 [08:15<00:00,  1.55s/it]\n"
     ]
    }
   ],
   "source": [
    "X = []\n",
    "modifs_idx = []\n",
    "modifs_type = []\n",
    "for _ in tqdm(range(n_batches)):\n",
    "    x, m_idx, type_ = next(data_loader)\n",
    "    X.append(x)\n",
    "    modifs_idx.append(m_idx)\n",
    "    modifs_type.append(type_)"
   ]
  },
  {
   "cell_type": "code",
   "execution_count": 14,
   "metadata": {},
   "outputs": [],
   "source": [
    "X = np.array(X).reshape(n_batches*data_loader.batch_size, \n",
    "                        data_loader.sample_len, 1)\n",
    "shape_ = (n_batches*data_loader.batch_size, data_loader.sample_len)\n",
    "modifs_idx = np.array(modifs_idx).reshape(shape_[0])\n",
    "modifs_idx = modifs_idx.flatten()"
   ]
  },
  {
   "cell_type": "code",
   "execution_count": 17,
   "metadata": {},
   "outputs": [
    {
     "name": "stdout",
     "output_type": "stream",
     "text": [
      "MSE:  {'err (med, mean)': (0.026580337, 0.027800487), 'modifications_err (med, mean)': (0.073230974, 0.089759864)}\n",
      "MAE:  {'err (med, mean)': (0.11655973, 0.11715461), 'modifications_err (med, mean)': (0.20279285, 0.21518749)}\n"
     ]
    }
   ],
   "source": [
    "from tensorflow.keras import layers\n",
    "clear_session()\n",
    "model64 = load_model(r\"1612/4_layers_CNN_mse.h5\", custom_objects={'ELU': layers.ELU})\n",
    "print(\"MSE: \", get_err_of_model(model64, X, MSE, shape_))\n",
    "print(\"MAE: \", get_err_of_model(model64, X, MAE, shape_))"
   ]
  },
  {
   "cell_type": "code",
   "execution_count": 18,
   "metadata": {},
   "outputs": [
    {
     "name": "stdout",
     "output_type": "stream",
     "text": [
      "MSE:  {'err (med, mean)': (0.0546649, 0.056675885), 'modifications_err (med, mean)': (0.12493844, 0.15795715)}\n",
      "MAE:  {'err (med, mean)': (0.17461228, 0.17549528), 'modifications_err (med, mean)': (0.28954852, 0.30992076)}\n"
     ]
    }
   ],
   "source": [
    "from tensorflow.keras import layers\n",
    "clear_session()\n",
    "model32 = load_model(r\"1312/4_layers_CNN_mse.h5\", custom_objects={'ELU': layers.ELU})\n",
    "print(\"MSE: \", get_err_of_model(model32, X, MSE, shape_))\n",
    "print(\"MAE: \", get_err_of_model(model32, X, MAE, shape_))"
   ]
  },
  {
   "cell_type": "code",
   "execution_count": 19,
   "metadata": {},
   "outputs": [],
   "source": [
    "data_generator_config['quality_threshold'] = 14\n",
    "data_generator_config['test'] = False"
   ]
  },
  {
   "cell_type": "code",
   "execution_count": 93,
   "metadata": {},
   "outputs": [],
   "source": [
    "preds32 = model32.predict(X)\n",
    "preds64 = model64.predict(X)\n",
    "X_shaped = X.reshape(shape_)\n",
    "preds_shaped = preds32.reshape(shape_)\n",
    "preds_shaped = preds64.reshape(shape_)"
   ]
  },
  {
   "cell_type": "code",
   "execution_count": 358,
   "metadata": {},
   "outputs": [
    {
     "name": "stdout",
     "output_type": "stream",
     "text": [
      "pred speed 32:  0:00:00.851427\n",
      "pred speed 64:  0:00:00.643238\n"
     ]
    }
   ],
   "source": [
    "now = datetime.now()\n",
    "model32.predict(X[:1000])\n",
    "print(\"pred speed 32: \", datetime.now() - now)\n",
    "now = datetime.now()\n",
    "model64.predict(X[:1000])\n",
    "print(\"pred speed 64: \", datetime.now() - now)"
   ]
  },
  {
   "cell_type": "code",
   "execution_count": 94,
   "metadata": {
    "scrolled": true
   },
   "outputs": [
    {
     "name": "stdout",
     "output_type": "stream",
     "text": [
      "(81792,)\n",
      "(235494,)\n"
     ]
    }
   ],
   "source": [
    "with_modif = np.array([i for i, ix in enumerate(modifs_idx) if 3 < len(ix) < 50])\n",
    "without_modif = np.array([i for i, ix in enumerate(modifs_idx) if not len(ix)])\n",
    "print(with_modif.shape)\n",
    "print(without_modif.shape)"
   ]
  },
  {
   "cell_type": "code",
   "execution_count": 95,
   "metadata": {},
   "outputs": [],
   "source": [
    "without_modif = without_modif[::2]"
   ]
  },
  {
   "cell_type": "code",
   "execution_count": 96,
   "metadata": {},
   "outputs": [],
   "source": [
    "X_cropped = X[:, 100:-100]\n",
    "preds_cropped32 = preds32[:, 100:-100]\n",
    "preds_cropped64 = preds64[:, 100:-100]"
   ]
  },
  {
   "cell_type": "code",
   "execution_count": 97,
   "metadata": {},
   "outputs": [],
   "source": [
    "modif_ix = []\n",
    "with_modif_in_middle = []\n",
    "for ix in with_modif:\n",
    "    if modifs_idx[ix][0] > 200 and modifs_idx[ix][-1] < 312:\n",
    "        modif_ix.append(modifs_idx[ix] - 100)\n",
    "        with_modif_in_middle.append(ix)\n",
    "with_modif_in_middle = np.array(with_modif_in_middle)"
   ]
  },
  {
   "cell_type": "code",
   "execution_count": 98,
   "metadata": {},
   "outputs": [
    {
     "name": "stderr",
     "output_type": "stream",
     "text": [
      "320000it [03:09, 1686.15it/s]\n",
      "320000it [03:11, 1668.94it/s]\n"
     ]
    }
   ],
   "source": [
    "mses32 = np.array([np.array(MSE(x, y)) \n",
    "                   for x, y in tqdm(zip(X_cropped, preds_cropped32))])\n",
    "mses64 = np.array([np.array(MSE(x, y)) \n",
    "                   for x, y in tqdm(zip(X_cropped, preds_cropped64))])"
   ]
  },
  {
   "cell_type": "code",
   "execution_count": 208,
   "metadata": {},
   "outputs": [],
   "source": [
    "mae32 = MAE(X_cropped, preds_cropped32)\n",
    "mae64 = MAE(X_cropped, preds_cropped64)"
   ]
  },
  {
   "cell_type": "code",
   "execution_count": 210,
   "metadata": {},
   "outputs": [
    {
     "name": "stdout",
     "output_type": "stream",
     "text": [
      "0.054478347\n",
      "0.02574684\n",
      "0.17430332\n",
      "0.11430354\n"
     ]
    }
   ],
   "source": [
    "print(np.mean(mses32[without_modif]))\n",
    "print(np.mean(mses64[without_modif]))\n",
    "print(np.mean(mae32))\n",
    "print(np.mean(mae64))"
   ]
  },
  {
   "cell_type": "code",
   "execution_count": 99,
   "metadata": {},
   "outputs": [],
   "source": [
    "without_modif_set = set(without_modif)\n",
    "with_modif_in_middle_set = set(with_modif_in_middle)\n",
    "if len(without_modif_set.intersection(set(with_modif_in_middle))):\n",
    "    raise ValueError(\"hmm\")"
   ]
  },
  {
   "cell_type": "code",
   "execution_count": 215,
   "metadata": {},
   "outputs": [
    {
     "name": "stderr",
     "output_type": "stream",
     "text": [
      "100%|██████████| 320000/320000 [2:08:35<00:00, 41.47it/s]  \n"
     ]
    }
   ],
   "source": [
    "median_rolled_mses_without32 = []\n",
    "median_rolled_mses_with32 = []\n",
    "median_rolled_mses_without64 = []\n",
    "median_rolled_mses_with64 = []\n",
    "\n",
    "for idx in tqdm(range(len(mses32))):\n",
    "    if idx not in without_modif_set and idx not in with_modif_in_middle_set:\n",
    "        continue\n",
    "    if idx in without_modif_set:\n",
    "        median_rolled_mses_without32.append(get_roll_mses(mses32[idx]))\n",
    "        median_rolled_mses_without64.append(get_roll_mses(mses64[idx]))\n",
    "\n",
    "    if idx in with_modif_in_middle_set:\n",
    "        median_rolled_mses_with32.append(get_roll_mses(mses32[idx]))\n",
    "        median_rolled_mses_with64.append(get_roll_mses(mses64[idx]))\n",
    "\n",
    "avg_mse_with32 = mses32[with_modif_in_middle].mean(1)\n",
    "avg_mse_with64 = mses64[with_modif_in_middle].mean(1)\n",
    "avg_mse_without32 = mses32[without_modif].mean(1)\n",
    "avg_mse_without64 = mses64[without_modif].mean(1)\n",
    "\n",
    "median_rolled_mses_without32 = np.array(median_rolled_mses_without32)\n",
    "median_rolled_mses_with32 = np.array(median_rolled_mses_with32)\n",
    "avg_mse_without32 = np.array(avg_mse_without32)\n",
    "avg_mse_with32 = np.array(avg_mse_with32)\n",
    "\n",
    "median_rolled_mses_without64 = np.array(median_rolled_mses_without64)\n",
    "median_rolled_mses_with64 = np.array(median_rolled_mses_with64)\n",
    "avg_mse_without64 = np.array(avg_mse_without64)\n",
    "avg_mse_with64 = np.array(avg_mse_with64)\n",
    "\n",
    "with open(\"evaluation.npz\", \"wb\") as f:\n",
    "    np.savez(f, mses32, mses64, median_rolled_mses_without32, median_rolled_mses_with32, \n",
    "             avg_mse_without32, avg_mse_with32, median_rolled_mses_without64, \n",
    "             median_rolled_mses_with64)"
   ]
  },
  {
   "cell_type": "code",
   "execution_count": 137,
   "metadata": {},
   "outputs": [],
   "source": [
    "avg_mse_with32 = mses32[with_modif_in_middle].mean(1)\n",
    "avg_mse_with64 = mses64[with_modif_in_middle].mean(1)\n",
    "avg_mse_without32 = mses32[without_modif].mean(1)\n",
    "avg_mse_without64 = mses64[without_modif].mean(1)"
   ]
  },
  {
   "cell_type": "code",
   "execution_count": 356,
   "metadata": {},
   "outputs": [
    {
     "data": {
      "image/png": "[encoded data removed]",
      "text/plain": [
       "<Figure size 360x432 with 1 Axes>"
      ]
     },
     "metadata": {
      "needs_background": "light"
     },
     "output_type": "display_data"
    },
    {
     "data": {
      "image/png": "[encoded data removed]",
      "text/plain": [
       "<Figure size 360x432 with 1 Axes>"
      ]
     },
     "metadata": {
      "needs_background": "light"
     },
     "output_type": "display_data"
    }
   ],
   "source": [
    "avg_mse_with32 = mses32[with_modif_in_middle].mean(1)\n",
    "avg_mse_with64 = mses64[with_modif_in_middle].mean(1)\n",
    "avg_mse_without32 = mses32[without_modif].mean(1)\n",
    "avg_mse_without64 = mses64[without_modif].mean(1)\n",
    "\n",
    "p_min_without64 = np.percentile(avg_mse_without64, 5)\n",
    "p_max_without64 = np.percentile(avg_mse_without64, 95)\n",
    "p_min_with64 = np.percentile(avg_mse_with64, 5)\n",
    "p_max_with64 = np.percentile(avg_mse_with64, 95)\n",
    "without64_avg = avg_mse_without64[(avg_mse_without64 > p_min_without64) \n",
    "                              & (avg_mse_without64 < p_max_without64)]\n",
    "with64_avg = avg_mse_with64[(avg_mse_with64 > p_min_with64) \n",
    "                        & (avg_mse_with64 < p_max_with64)]\n",
    "\n",
    "\n",
    "p_min_without32 = np.percentile(avg_mse_without32, 5)\n",
    "p_max_without32 = np.percentile(avg_mse_without32, 95)\n",
    "p_min_with32 = np.percentile(avg_mse_with32, 5)\n",
    "p_max_with32 = np.percentile(avg_mse_with32, 95)\n",
    "without32_avg = avg_mse_without32[(avg_mse_without32 > p_min_without32) \n",
    "                             & (avg_mse_without32 < p_max_without32)]\n",
    "with32_avg = avg_mse_with32[(avg_mse_with32 > p_min_with32) \n",
    "                        & (avg_mse_with32 < p_max_with32)]\n",
    "\n",
    "plt.figure(figsize=(5, 6))\n",
    "plt.violinplot([without32_avg, with32_avg], showmedians=True,\n",
    "               positions=[1, 2])\n",
    "plt.xticks([1, 2],\n",
    "           labels = ['bez modifikácie\\nveľkosť hrdla 32', \n",
    "                     's modifikáciou\\nveľkosť hrdla 32'],\n",
    "          fontsize=14)\n",
    "plt.grid(color='#dee3df')\n",
    "plt.savefig('violinplots_avg_1.png')\n",
    "plt.show()\n",
    "plt.figure(figsize=(5, 6))\n",
    "plt.violinplot([without64_avg, with64_avg], showmedians=True,\n",
    "               positions=[1, 2])\n",
    "plt.xticks([1, 2],\n",
    "           labels = ['bez modifikácie\\nveľkosť hrdla 64', \n",
    "                     's modifikáciou\\nveľkosť hrdla 64'],\n",
    "          fontsize=14)\n",
    "plt.grid(color='#dee3df')\n",
    "plt.savefig('violinplots_avg_2.png')\n",
    "plt.show()\n",
    "\n"
   ]
  },
  {
   "cell_type": "code",
   "execution_count": 357,
   "metadata": {},
   "outputs": [
    {
     "data": {
      "image/png": "[encoded data removed]",
      "text/plain": [
       "<Figure size 360x432 with 1 Axes>"
      ]
     },
     "metadata": {
      "needs_background": "light"
     },
     "output_type": "display_data"
    },
    {
     "data": {
      "image/png": "[encoded data removed]",
      "text/plain": [
       "<Figure size 360x432 with 1 Axes>"
      ]
     },
     "metadata": {
      "needs_background": "light"
     },
     "output_type": "display_data"
    }
   ],
   "source": [
    "max_mse_with32 = median_rolled_mses_with32.max(1)\n",
    "max_mse_with64 = median_rolled_mses_with64.max(1)\n",
    "max_mse_without32 = median_rolled_mses_without32.max(1)\n",
    "max_mse_without64 = median_rolled_mses_without64.max(1)\n",
    "max_mse_without64 *= 2.5\n",
    "max_mse_with64 *= 2.5\n",
    "p_min_without64 = np.percentile(max_mse_without64, 5)\n",
    "p_max_without64 = np.percentile(max_mse_without64, 95)\n",
    "p_min_with64 = np.percentile(max_mse_with64, 5)\n",
    "p_max_with64 = np.percentile(max_mse_with64, 95)\n",
    "without64_max = max_mse_without64[(max_mse_without64 > p_min_without64) \n",
    "                              & (max_mse_without64 < p_max_without64)]\n",
    "with64_max = max_mse_with64[(max_mse_with64 > p_min_with64) \n",
    "                        & (max_mse_with64 < p_max_with64)]\n",
    "\n",
    "\n",
    "p_min_without32 = np.percentile(max_mse_without32, 5)\n",
    "p_max_without32 = np.percentile(max_mse_without32, 95)\n",
    "p_min_with32 = np.percentile(max_mse_with32, 5)\n",
    "p_max_with32 = np.percentile(max_mse_with32, 95)\n",
    "without32_max = max_mse_without32[(max_mse_without32 > p_min_without32) \n",
    "                             & (max_mse_without32 < p_max_without32)]\n",
    "with32_max = max_mse_with32[(max_mse_with32 > p_min_with32) \n",
    "                        & (max_mse_with32 < p_max_with32)]\n",
    "\n",
    "plt.figure(figsize=(5, 6))\n",
    "plt.violinplot([without32_max, with32_max], showmedians=True,\n",
    "               positions=[1, 2])\n",
    "plt.xticks([1, 2],\n",
    "           labels = ['bez modifikácie\\nveľkosť hrdla 32', \n",
    "                     's modifikáciou\\nveľkosť hrdla 32'],\n",
    "          fontsize=14)\n",
    "plt.grid(color='#dee3df')\n",
    "plt.savefig('violinplots_max_1.png')\n",
    "plt.show()\n",
    "plt.figure(figsize=(5, 6))\n",
    "plt.violinplot([without64_max, with64_max], showmedians=True,\n",
    "               positions=[1, 2])\n",
    "plt.xticks([1, 2],\n",
    "           labels = ['bez modifikácie\\nveľkosť hrdla 64', \n",
    "                     's modifikáciou\\nveľkosť hrdla 64'],\n",
    "          fontsize=14)\n",
    "plt.grid(color='#dee3df')\n",
    "plt.savefig('violinplots_max_2.png')\n",
    "plt.show()"
   ]
  },
  {
   "cell_type": "code",
   "execution_count": 245,
   "metadata": {},
   "outputs": [],
   "source": [
    "from sklearn.metrics import precision_score, recall_score\n",
    "from matplotlib import pyplot as plt"
   ]
  },
  {
   "cell_type": "code",
   "execution_count": 290,
   "metadata": {
    "scrolled": true
   },
   "outputs": [
    {
     "name": "stderr",
     "output_type": "stream",
     "text": [
      "100%|██████████| 300/300 [16:18<00:00,  3.26s/it]"
     ]
    },
    {
     "name": "stdout",
     "output_type": "stream",
     "text": [
      "[0.9998812915479582, 0.9700854700854701, 0.7767094017094017, 0.44753086419753085, 0.17402659069325735, 0.053774928774928774, 0.015788224121557455, 0.005935422602089269, 0.0029677113010446346, 0.0008309591642924976, 0.00035612535612535614, 0.00023741690408357076, 0.00023741690408357076, 0.00011870845204178538, 0.00011870845204178538, 0.00011870845204178538, 0.00011870845204178538, 0.00011870845204178538, 0.00011870845204178538, 0.00011870845204178538, 0.00011870845204178538, 0.00011870845204178538, 0.00011870845204178538, 0.00011870845204178538, 0.00011870845204178538, 0.00011870845204178538, 0.00011870845204178538, 0.00011870845204178538, 0.00011870845204178538, 0.00011870845204178538, 0.00011870845204178538, 0.00011870845204178538, 0.00011870845204178538, 0.00011870845204178538, 0.00011870845204178538, 0.00011870845204178538, 0.00011870845204178538, 0.00011870845204178538, 0.00011870845204178538, 0.00011870845204178538, 0.00011870845204178538, 0.00011870845204178538, 0.00011870845204178538, 0.00011870845204178538, 0.00011870845204178538, 0.00011870845204178538, 0.00011870845204178538, 0.00011870845204178538, 0.00011870845204178538, 0.00011870845204178538, 0.00011870845204178538, 0.00011870845204178538, 0.00011870845204178538, 0.00011870845204178538, 0.00011870845204178538, 0.00011870845204178538, 0.00011870845204178538, 0.00011870845204178538, 0.00011870845204178538, 0.00011870845204178538, 0.00011870845204178538, 0.00011870845204178538, 0.00011870845204178538, 0.00011870845204178538, 0.00011870845204178538, 0.00011870845204178538, 0.00011870845204178538, 0.00011870845204178538, 0.00011870845204178538, 0.00011870845204178538, 0.00011870845204178538, 0.00011870845204178538, 0.00011870845204178538, 0.00011870845204178538, 0.00011870845204178538, 0.00011870845204178538, 0.00011870845204178538, 0.00011870845204178538, 0.00011870845204178538, 0.00011870845204178538, 0.00011870845204178538, 0.00011870845204178538, 0.00011870845204178538, 0.00011870845204178538, 0.00011870845204178538, 0.00011870845204178538, 0.00011870845204178538, 0.00011870845204178538, 0.00011870845204178538, 0.00011870845204178538, 0.00011870845204178538, 0.00011870845204178538, 0.00011870845204178538, 0.00011870845204178538, 0.00011870845204178538, 0.00011870845204178538, 0.00011870845204178538, 0.00011870845204178538, 0.00011870845204178538, 0.00011870845204178538, 0.00011870845204178538, 0.00011870845204178538, 0.00011870845204178538, 0.00011870845204178538, 0.00011870845204178538, 0.00011870845204178538, 0.00011870845204178538, 0.00011870845204178538, 0.00011870845204178538, 0.00011870845204178538, 0.00011870845204178538, 0.00011870845204178538, 0.00011870845204178538, 0.00011870845204178538, 0.00011870845204178538, 0.00011870845204178538, 0.00011870845204178538, 0.00011870845204178538, 0.00011870845204178538, 0.00011870845204178538, 0.00011870845204178538, 0.00011870845204178538, 0.00011870845204178538, 0.00011870845204178538, 0.00011870845204178538, 0.00011870845204178538, 0.00011870845204178538, 0.00011870845204178538, 0.00011870845204178538, 0.00011870845204178538, 0.00011870845204178538, 0.00011870845204178538, 0.00011870845204178538, 0.00011870845204178538, 0.00011870845204178538, 0.00011870845204178538, 0.00011870845204178538, 0.00011870845204178538, 0.00011870845204178538, 0.00011870845204178538, 0.00011870845204178538, 0.00011870845204178538, 0.00011870845204178538, 0.00011870845204178538, 0.00011870845204178538, 0.00011870845204178538, 0.00011870845204178538, 0.00011870845204178538, 0.00011870845204178538, 0.00011870845204178538, 0.00011870845204178538, 0.00011870845204178538, 0.00011870845204178538, 0.00011870845204178538, 0.00011870845204178538, 0.00011870845204178538, 0.00011870845204178538, 0.00011870845204178538, 0.00011870845204178538, 0.00011870845204178538, 0.00011870845204178538, 0.00011870845204178538, 0.00011870845204178538, 0.00011870845204178538, 0.00011870845204178538, 0.00011870845204178538, 0.00011870845204178538, 0.00011870845204178538, 0.00011870845204178538, 0.00011870845204178538, 0.00011870845204178538, 0.00011870845204178538, 0.00011870845204178538, 0.00011870845204178538, 0.00011870845204178538, 0.00011870845204178538, 0.00011870845204178538, 0.00011870845204178538, 0.00011870845204178538, 0.00011870845204178538, 0.00011870845204178538, 0.00011870845204178538, 0.00011870845204178538, 0.00011870845204178538, 0.00011870845204178538, 0.00011870845204178538, 0.00011870845204178538, 0.00011870845204178538, 0.00011870845204178538, 0.00011870845204178538, 0.00011870845204178538, 0.00011870845204178538, 0.00011870845204178538, 0.00011870845204178538, 0.00011870845204178538, 0.00011870845204178538, 0.00011870845204178538, 0.00011870845204178538, 0.00011870845204178538, 0.00011870845204178538, 0.00011870845204178538, 0.00011870845204178538, 0.00011870845204178538, 0.00011870845204178538, 0.00011870845204178538, 0.00011870845204178538, 0.00011870845204178538, 0.00011870845204178538, 0.00011870845204178538, 0.00011870845204178538, 0.00011870845204178538, 0.00011870845204178538, 0.00011870845204178538, 0.00011870845204178538, 0.00011870845204178538, 0.00011870845204178538, 0.00011870845204178538, 0.00011870845204178538, 0.00011870845204178538, 0.00011870845204178538, 0.00011870845204178538, 0.00011870845204178538, 0.00011870845204178538, 0.00011870845204178538, 0.00011870845204178538, 0.00011870845204178538, 0.00011870845204178538, 0.00011870845204178538, 0.00011870845204178538, 0.00011870845204178538, 0.00011870845204178538, 0.00011870845204178538, 0.00011870845204178538, 0.00011870845204178538, 0.00011870845204178538, 0.00011870845204178538, 0.00011870845204178538, 0.00011870845204178538, 0.00011870845204178538, 0.00011870845204178538, 0.00011870845204178538, 0.00011870845204178538, 0.00011870845204178538, 0.00011870845204178538, 0.00011870845204178538, 0.00011870845204178538, 0.00011870845204178538, 0.00011870845204178538, 0.00011870845204178538, 0.00011870845204178538, 0.00011870845204178538, 0.00011870845204178538, 0.00011870845204178538, 0.00011870845204178538, 0.00011870845204178538, 0.00011870845204178538, 0.00011870845204178538, 0.00011870845204178538, 0.00011870845204178538, 0.00011870845204178538, 0.00011870845204178538, 0.00011870845204178538, 0.00011870845204178538, 0.00011870845204178538, 0.00011870845204178538, 0.00011870845204178538, 0.00011870845204178538, 0.00011870845204178538, 0.00011870845204178538, 0.00011870845204178538, 0.00011870845204178538, 0.00011870845204178538, 0.00011870845204178538, 0.00011870845204178538, 0.00011870845204178538, 0.00011870845204178538, 0.00011870845204178538, 0.00011870845204178538, 0.00011870845204178538, 0.00011870845204178538, 0.00011870845204178538, 0.00011870845204178538, 0.00011870845204178538, 0.00011870845204178538, 0.00011870845204178538, 0.00011870845204178538, 0.00011870845204178538, 0.00011870845204178538, 0.00011870845204178538, 0.00011870845204178538, 0.00011870845204178538, 0.00011870845204178538, 0.00011870845204178538, 0.00011870845204178538, 0.00011870845204178538, 0.00011870845204178538, 0.00011870845204178538, 0.00011870845204178538, 0.00011870845204178538, 0.0]\n"
     ]
    },
    {
     "name": "stderr",
     "output_type": "stream",
     "text": [
      "\n"
     ]
    }
   ],
   "source": [
    "precisions = []\n",
    "recalls = []\n",
    "accuracies = []\n",
    "avg_mse_with64 = mses64[with_modif_in_middle].mean(1) * 2\n",
    "avg_mse_without64 = mses64[without_modif].mean(1) * 2\n",
    "avg_mse64 = mses64.mean(1)\n",
    "for thr in tqdm(np.linspace(np.min(avg_mse_with64), avg_mse_with64.max(), 300)):\n",
    "    y_true = []\n",
    "    y_pred = []\n",
    "    for idx, mse in enumerate(avg_mse64):\n",
    "        if idx not in without_modif_set and idx not in with_modif_in_middle_set:\n",
    "            continue\n",
    "        mse *= 2\n",
    "        y_pred.extend([1 if mse > thr else 0 for i in [1]])\n",
    "        y_true.extend([1 if idx in with_modif_in_middle_set else 0 for _ in [1]])\n",
    "        \n",
    "    w = precision_score(y_true, y_pred)\n",
    "    precisions.append(w)\n",
    "    recalls.append(recall_score(y_true, y_pred))\n",
    "    accuracies.append(accuracy_score(y_true, y_pred))\n",
    "print(recalls)"
   ]
  },
  {
   "cell_type": "code",
   "execution_count": 293,
   "metadata": {},
   "outputs": [
    {
     "data": {
      "text/plain": [
       "1.0046974353792766"
      ]
     },
     "execution_count": 293,
     "metadata": {},
     "output_type": "execute_result"
    }
   ],
   "source": [
    "np.max(accuracies) + len(with_modif_in_middle_set) / len(without_modif_set)"
   ]
  },
  {
   "cell_type": "code",
   "execution_count": 294,
   "metadata": {},
   "outputs": [
    {
     "data": {
      "text/plain": [
       "0.18382352941176472"
      ]
     },
     "execution_count": 294,
     "metadata": {},
     "output_type": "execute_result"
    }
   ],
   "source": [
    "np.max(precisions)"
   ]
  },
  {
   "cell_type": "code",
   "execution_count": 318,
   "metadata": {},
   "outputs": [
    {
     "data": {
      "image/png": "[encoded data removed]",
      "text/plain": [
       "<Figure size 432x288 with 1 Axes>"
      ]
     },
     "metadata": {
      "needs_background": "light"
     },
     "output_type": "display_data"
    }
   ],
   "source": [
    "# preds = model1.predict(X)\n",
    "x = np.arange(X[29].flatten().shape[0])\n",
    "plt.plot(x, X[29].flatten(), label=\"vstup\")\n",
    "plt.plot(x, preds64[29].flatten(), label=\"výstup\")\n",
    "plt.legend()\n",
    "plt.show()"
   ]
  },
  {
   "cell_type": "code",
   "execution_count": 313,
   "metadata": {},
   "outputs": [],
   "source": [
    "from fast5_research import Fast5\n",
    "import numpy as np\n",
    "from glob import glob\n",
    "from config import test_seq_path, seq_path, corrected_group\n",
    "files_list = glob(test_seq_path) + glob(seq_path)"
   ]
  },
  {
   "cell_type": "code",
   "execution_count": 359,
   "metadata": {},
   "outputs": [
    {
     "name": "stderr",
     "output_type": "stream",
     "text": [
      "  5%|▌         | 2350/44511 [00:43<12:58, 54.13it/s]"
     ]
    },
    {
     "name": "stdout",
     "output_type": "stream",
     "text": [
      "/tf/puc19/nanopore/MAP_Data/08_07_16_R9_pUC_BC/MA/downloads/pass/NB08/makeson_PC_20160807_FNFAD20242_MN17284_sequencing_run_MA_470_R9_pUC_g_PCR_BC_08_07_16_93165_ch432_read1037_strand.fast5\n"
     ]
    },
    {
     "name": "stderr",
     "output_type": "stream",
     "text": [
      " 26%|██▌       | 11663/44511 [03:36<10:18, 53.12it/s]"
     ]
    },
    {
     "name": "stdout",
     "output_type": "stream",
     "text": [
      "/tf/puc19/nanopore/MAP_Data/08_07_16_R9_pUC_BC/MA/downloads/pass/NB08/makeson_PC_20160809_FNFAD20242_MN17284_sequencing_run_MA_470_R9_pUC_g_PCR_BC_2_08_07_16_80510_ch180_read404_strand.fast5\n"
     ]
    },
    {
     "name": "stderr",
     "output_type": "stream",
     "text": [
      "100%|██████████| 44511/44511 [13:40<00:00, 54.25it/s]\n"
     ]
    }
   ],
   "source": [
    "leng = 0\n",
    "num = 0\n",
    "leng_events = 0\n",
    "num_events = 0\n",
    "is_not_okay = 0\n",
    "for filename in tqdm(files_list):\n",
    "    try:\n",
    "        with Fast5(filename) as fh:\n",
    "            leng += len(fh.get_read(raw=True))\n",
    "            t_path = f'Analyses/{corrected_group}/BaseCalled_template/Events/'\n",
    "            c_path = f'Analyses/{corrected_group}/BaseCalled_complement/Events/'\n",
    "            try:\n",
    "                l_ = fh[c_path]['start'][-1] + fh[c_path]['length'][-1]\n",
    "                l_ += (fh[t_path]['start'][-1] + fh[t_path]['length'][-1])\n",
    "                num_events += len(fh[c_path]['start']) + len(fh[t_path]['start'])\n",
    "                leng_events += l_\n",
    "            except:\n",
    "                is_not_okay += 1\n",
    "            num += 1\n",
    "    except OSError:\n",
    "        print(filename)\n"
   ]
  },
  {
   "cell_type": "code",
   "execution_count": 319,
   "metadata": {},
   "outputs": [
    {
     "data": {
      "text/plain": [
       "529"
      ]
     },
     "execution_count": 319,
     "metadata": {},
     "output_type": "execute_result"
    }
   ],
   "source": [
    "is_not_okay"
   ]
  },
  {
   "cell_type": "code",
   "execution_count": 311,
   "metadata": {},
   "outputs": [
    {
     "data": {
      "text/plain": [
       "91920.28061740322"
      ]
     },
     "execution_count": 311,
     "metadata": {},
     "output_type": "execute_result"
    }
   ],
   "source": [
    "avg_read_len = leng/num"
   ]
  },
  {
   "cell_type": "code",
   "execution_count": 320,
   "metadata": {},
   "outputs": [
    {
     "data": {
      "text/plain": [
       "143810260"
      ]
     },
     "execution_count": 320,
     "metadata": {},
     "output_type": "execute_result"
    }
   ],
   "source": [
    "num_events"
   ]
  },
  {
   "cell_type": "code",
   "execution_count": 323,
   "metadata": {},
   "outputs": [
    {
     "data": {
      "text/plain": [
       "3269.9013187812643"
      ]
     },
     "execution_count": 323,
     "metadata": {},
     "output_type": "execute_result"
    }
   ],
   "source": [
    "avg_num_events_in_read = num_events/(num-is_not_okay)\n",
    "avg_num_events_in_read"
   ]
  },
  {
   "cell_type": "code",
   "execution_count": 362,
   "metadata": {},
   "outputs": [
    {
     "data": {
      "text/plain": [
       "14.948262620483407"
      ]
     },
     "execution_count": 362,
     "metadata": {},
     "output_type": "execute_result"
    }
   ],
   "source": [
    "avg_signal_per_event = leng_events / num_events\n",
    "avg_signal_per_event"
   ]
  }
 ],
 "metadata": {
  "kernelspec": {
   "display_name": "Python 3",
   "language": "python",
   "name": "python3"
  },
  "language_info": {
   "codemirror_mode": {
    "name": "ipython",
    "version": 3
   },
   "file_extension": ".py",
   "mimetype": "text/x-python",
   "name": "python",
   "nbconvert_exporter": "python",
   "pygments_lexer": "ipython3",
   "version": "3.6.9"
  }
 },
 "nbformat": 4,
 "nbformat_minor": 4
}
