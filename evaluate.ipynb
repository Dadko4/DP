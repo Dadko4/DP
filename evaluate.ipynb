{
 "cells": [
  {
   "cell_type": "code",
   "execution_count": 1,
   "metadata": {},
   "outputs": [],
   "source": [
    "from data_loader import DataGenerator\n",
    "from datetime import datetime\n",
    "from model import model_builder\n",
    "from tensorflow.keras.callbacks import (EarlyStopping, ReduceLROnPlateau,\n",
    "                                        ModelCheckpoint, TensorBoard)\n",
    "from tensorflow.keras.models import load_model\n",
    "from tensorflow.keras.backend import clear_session\n",
    "import numpy as np\n",
    "import warnings\n",
    "from config import (model_config, data_generator_config, load_from_file,\n",
    "                    n_epochs, model_name, tb_logs_path, model_checkpoint_file, test_seq_path)\n",
    "from tensorflow.keras.losses import MSE\n",
    "from tqdm import tqdm"
   ]
  },
  {
   "cell_type": "code",
   "execution_count": 97,
   "metadata": {},
   "outputs": [],
   "source": [
    "def get_mses_of_model(model, X, preds):\n",
    "    preds = model.predict(X)\n",
    "    mses = MSE(X.reshape(10000, 512), preds.reshape(10000, 512))\n",
    "    mse_of_mods = []\n",
    "    for i, m_ix in enumerate(modifs_idx):\n",
    "        if m_ix[0].shape[0] > 3 and m_ix[0].shape[0] < 15:\n",
    "            mse_of_mods.append(MSE(X[i, m_ix[0]].flatten(),\n",
    "                               preds[i, m_ix[0]].flatten()))\n",
    "    overall_mse = np.mean(mses)\n",
    "    mods_mse = np.mean(mse_of_mods)\n",
    "    return {\"mse\": overall_mse, \"modifications mse\": mods_mse}"
   ]
  },
  {
   "cell_type": "code",
   "execution_count": 2,
   "metadata": {},
   "outputs": [
    {
     "data": {
      "text/plain": [
       "{'sample_len': 512,\n",
       " 'batch_size': 1000,\n",
       " 'quality_threshold': 20.5,\n",
       " 'normalize': 'MEDIAN',\n",
       " 'random_sample': True,\n",
       " 'step_len': 2048,\n",
       " 'load2ram': False,\n",
       " 'test': True,\n",
       " 'seq_path': '/tf/puc19/nanopore/MAP_Data/08_07_16_R9_pUC_BC/MA/downloads/pass/NB08/*.fast5'}"
      ]
     },
     "execution_count": 2,
     "metadata": {},
     "output_type": "execute_result"
    }
   ],
   "source": [
    "data_generator_config['quality_threshold'] = 20.5\n",
    "data_generator_config['test'] = True\n",
    "data_generator_config['seq_path'] = test_seq_path\n",
    "data_generator_config['load2ram'] = False\n",
    "data_generator_config['step_len'] = 2048\n",
    "data_generator_config"
   ]
  },
  {
   "cell_type": "code",
   "execution_count": 3,
   "metadata": {
    "scrolled": true
   },
   "outputs": [
    {
     "name": "stdout",
     "output_type": "stream",
     "text": [
      "/tf/puc19/nanopore/MAP_Data/08_07_16_R9_pUC_BC/MA/downloads/pass/NB08/*.fast5\n"
     ]
    }
   ],
   "source": [
    "data_loader = DataGenerator(**data_generator_config)"
   ]
  },
  {
   "cell_type": "code",
   "execution_count": 4,
   "metadata": {
    "scrolled": true
   },
   "outputs": [
    {
     "name": "stderr",
     "output_type": "stream",
     "text": [
      "\r",
      "  0%|          | 0/10 [00:00<?, ?it/s]"
     ]
    },
    {
     "name": "stdout",
     "output_type": "stream",
     "text": [
      "from next_data\n",
      "from next_data\n",
      "from next_data\n",
      "from next_data\n",
      "from next_data\n",
      "from next_data\n",
      "from next_data\n",
      "from next_data\n",
      "from next_data\n",
      "from next_data\n",
      "from next_data\n",
      "from next_data\n",
      "from next_data\n",
      "from next_data\n",
      "from next_data\n",
      "from next_data\n",
      "from next_data\n",
      "from next_data\n",
      "from next_data\n",
      "from next_data\n",
      "from next_data\n",
      "from next_data\n",
      "from next_data\n",
      "from next_data\n",
      "from next_data\n",
      "from next_data\n",
      "from next_data\n",
      "from next_data\n",
      "from next_data\n",
      "from next_data\n",
      "from next_data\n",
      "from next_data\n",
      "from next_data\n",
      "from next_data\n",
      "from next_data\n",
      "from next_data\n",
      "from next_data\n",
      "from next_data\n",
      "from next_data\n",
      "from next_data\n"
     ]
    },
    {
     "name": "stderr",
     "output_type": "stream",
     "text": [
      "\r",
      " 10%|█         | 1/10 [00:31<04:47, 31.91s/it]"
     ]
    },
    {
     "name": "stdout",
     "output_type": "stream",
     "text": [
      "from next_data\n",
      "from next_data\n",
      "from next_data\n",
      "from next_data\n",
      "from next_data\n",
      "from next_data\n",
      "from next_data\n",
      "from next_data\n",
      "from next_data\n",
      "from next_data\n",
      "from next_data\n",
      "from next_data\n",
      "from next_data\n",
      "from next_data\n",
      "from next_data\n",
      "from next_data\n",
      "from next_data\n",
      "from next_data\n",
      "from next_data\n",
      "from next_data\n",
      "from next_data\n",
      "unable to open file /tf/puc19/nanopore/MAP_Data/08_07_16_R9_pUC_BC/MA/downloads/pass/NB08/makeson_PC_20160809_FNFAD20242_MN17284_sequencing_run_MA_470_R9_pUC_g_PCR_BC_2_08_07_16_80510_ch180_read404_strand.fast5\n",
      "from next_data\n",
      "from next_data\n",
      "from next_data\n",
      "from next_data\n",
      "from next_data\n",
      "from next_data\n",
      "from next_data\n",
      "from next_data\n",
      "from next_data\n",
      "from next_data\n",
      "from next_data\n",
      "from next_data\n",
      "from next_data\n",
      "from next_data\n",
      "from next_data\n",
      "from next_data\n",
      "from next_data\n",
      "from next_data\n",
      "from next_data\n",
      "from next_data\n",
      "from next_data\n"
     ]
    },
    {
     "name": "stderr",
     "output_type": "stream",
     "text": [
      "\r",
      " 20%|██        | 2/10 [01:02<04:13, 31.63s/it]"
     ]
    },
    {
     "name": "stdout",
     "output_type": "stream",
     "text": [
      "from next_data\n",
      "from next_data\n",
      "from next_data\n",
      "from next_data\n",
      "from next_data\n",
      "from next_data\n",
      "from next_data\n",
      "from next_data\n",
      "from next_data\n",
      "from next_data\n",
      "from next_data\n",
      "from next_data\n",
      "from next_data\n",
      "from next_data\n",
      "from next_data\n",
      "from next_data\n",
      "from next_data\n",
      "from next_data\n",
      "from next_data\n",
      "from next_data\n",
      "from next_data\n",
      "from next_data\n",
      "from next_data\n",
      "from next_data\n",
      "from next_data\n",
      "from next_data\n",
      "from next_data\n",
      "from next_data\n",
      "from next_data\n",
      "from next_data\n",
      "from next_data\n",
      "from next_data\n",
      "from next_data\n",
      "from next_data\n",
      "from next_data\n",
      "from next_data\n",
      "from next_data\n",
      "from next_data\n",
      "from next_data\n",
      "from next_data\n",
      "from next_data\n"
     ]
    },
    {
     "name": "stderr",
     "output_type": "stream",
     "text": [
      "\r",
      " 30%|███       | 3/10 [01:31<03:34, 30.64s/it]"
     ]
    },
    {
     "name": "stdout",
     "output_type": "stream",
     "text": [
      "from next_data\n",
      "from next_data\n",
      "from next_data\n",
      "from next_data\n",
      "from next_data\n",
      "from next_data\n",
      "from next_data\n",
      "from next_data\n",
      "from next_data\n",
      "from next_data\n",
      "from next_data\n",
      "from next_data\n",
      "from next_data\n",
      "from next_data\n",
      "from next_data\n",
      "from next_data\n",
      "from next_data\n",
      "from next_data\n",
      "from next_data\n",
      "from next_data\n",
      "from next_data\n",
      "from next_data\n",
      "from next_data\n",
      "from next_data\n",
      "from next_data\n",
      "from next_data\n",
      "from next_data\n",
      "from next_data\n",
      "from next_data\n",
      "from next_data\n",
      "from next_data\n",
      "from next_data\n",
      "from next_data\n",
      "from next_data\n",
      "from next_data\n",
      "from next_data\n",
      "from next_data\n",
      "from next_data\n",
      "from next_data\n",
      "from next_data\n",
      "from next_data\n",
      "from next_data\n"
     ]
    },
    {
     "name": "stderr",
     "output_type": "stream",
     "text": [
      "\r",
      " 40%|████      | 4/10 [01:57<02:55, 29.22s/it]"
     ]
    },
    {
     "name": "stdout",
     "output_type": "stream",
     "text": [
      "from next_data\n",
      "from next_data\n",
      "from next_data\n",
      "from next_data\n",
      "from next_data\n",
      "from next_data\n",
      "from next_data\n",
      "from next_data\n",
      "from next_data\n",
      "from next_data\n",
      "from next_data\n",
      "from next_data\n",
      "from next_data\n",
      "from next_data\n",
      "from next_data\n",
      "from next_data\n",
      "from next_data\n",
      "from next_data\n",
      "from next_data\n",
      "from next_data\n",
      "from next_data\n",
      "from next_data\n",
      "from next_data\n",
      "from next_data\n",
      "from next_data\n",
      "from next_data\n",
      "from next_data\n",
      "from next_data\n",
      "from next_data\n",
      "from next_data\n",
      "from next_data\n",
      "from next_data\n",
      "from next_data\n",
      "from next_data\n",
      "from next_data\n",
      "from next_data\n",
      "from next_data\n",
      "from next_data\n",
      "from next_data\n",
      "from next_data\n",
      "from next_data\n",
      "from next_data\n"
     ]
    },
    {
     "name": "stderr",
     "output_type": "stream",
     "text": [
      "\r",
      " 50%|█████     | 5/10 [02:34<02:37, 31.60s/it]"
     ]
    },
    {
     "name": "stdout",
     "output_type": "stream",
     "text": [
      "from next_data\n",
      "from next_data\n",
      "from next_data\n",
      "from next_data\n",
      "from next_data\n",
      "from next_data\n",
      "from next_data\n",
      "from next_data\n",
      "from next_data\n",
      "from next_data\n",
      "from next_data\n",
      "from next_data\n",
      "from next_data\n",
      "from next_data\n",
      "from next_data\n",
      "from next_data\n",
      "from next_data\n",
      "from next_data\n",
      "from next_data\n",
      "from next_data\n",
      "from next_data\n",
      "from next_data\n",
      "from next_data\n",
      "from next_data\n",
      "from next_data\n",
      "from next_data\n",
      "from next_data\n",
      "from next_data\n",
      "from next_data\n",
      "from next_data\n",
      "from next_data\n",
      "from next_data\n",
      "from next_data\n",
      "from next_data\n",
      "from next_data\n",
      "from next_data\n",
      "from next_data\n",
      "from next_data\n",
      "from next_data\n",
      "from next_data\n",
      "from next_data\n"
     ]
    },
    {
     "name": "stderr",
     "output_type": "stream",
     "text": [
      "\r",
      " 60%|██████    | 6/10 [03:09<02:11, 32.81s/it]"
     ]
    },
    {
     "name": "stdout",
     "output_type": "stream",
     "text": [
      "from next_data\n",
      "from next_data\n",
      "from next_data\n",
      "from next_data\n",
      "from next_data\n",
      "from next_data\n",
      "from next_data\n",
      "from next_data\n",
      "from next_data\n",
      "from next_data\n",
      "from next_data\n",
      "from next_data\n",
      "from next_data\n",
      "from next_data\n",
      "from next_data\n",
      "from next_data\n",
      "from next_data\n",
      "from next_data\n",
      "from next_data\n",
      "from next_data\n",
      "from next_data\n",
      "from next_data\n",
      "from next_data\n",
      "from next_data\n",
      "from next_data\n",
      "from next_data\n",
      "from next_data\n",
      "from next_data\n",
      "from next_data\n",
      "from next_data\n",
      "from next_data\n",
      "from next_data\n",
      "from next_data\n",
      "from next_data\n",
      "from next_data\n",
      "from next_data\n",
      "from next_data\n",
      "from next_data\n",
      "from next_data\n",
      "from next_data\n",
      "from next_data\n",
      "from next_data\n",
      "from next_data\n"
     ]
    },
    {
     "name": "stderr",
     "output_type": "stream",
     "text": [
      "\r",
      " 70%|███████   | 7/10 [03:40<01:35, 31.99s/it]"
     ]
    },
    {
     "name": "stdout",
     "output_type": "stream",
     "text": [
      "from next_data\n",
      "from next_data\n",
      "from next_data\n",
      "from next_data\n",
      "from next_data\n",
      "from next_data\n",
      "from next_data\n",
      "from next_data\n",
      "from next_data\n",
      "from next_data\n",
      "from next_data\n",
      "from next_data\n",
      "from next_data\n",
      "from next_data\n",
      "from next_data\n",
      "from next_data\n",
      "from next_data\n",
      "from next_data\n",
      "from next_data\n",
      "from next_data\n",
      "from next_data\n",
      "from next_data\n",
      "from next_data\n",
      "from next_data\n",
      "from next_data\n",
      "from next_data\n",
      "from next_data\n",
      "from next_data\n",
      "from next_data\n",
      "from next_data\n",
      "from next_data\n",
      "from next_data\n",
      "from next_data\n",
      "from next_data\n",
      "from next_data\n",
      "from next_data\n",
      "from next_data\n",
      "from next_data\n",
      "from next_data\n",
      "from next_data\n",
      "from next_data\n",
      "from next_data\n",
      "from next_data\n"
     ]
    },
    {
     "name": "stderr",
     "output_type": "stream",
     "text": [
      "\r",
      " 80%|████████  | 8/10 [04:05<00:59, 29.92s/it]"
     ]
    },
    {
     "name": "stdout",
     "output_type": "stream",
     "text": [
      "from next_data\n",
      "from next_data\n",
      "from next_data\n",
      "from next_data\n",
      "from next_data\n",
      "from next_data\n",
      "from next_data\n",
      "from next_data\n",
      "from next_data\n",
      "from next_data\n",
      "from next_data\n",
      "from next_data\n",
      "from next_data\n",
      "from next_data\n",
      "from next_data\n",
      "from next_data\n",
      "from next_data\n",
      "from next_data\n",
      "from next_data\n",
      "from next_data\n",
      "from next_data\n",
      "from next_data\n",
      "from next_data\n",
      "from next_data\n",
      "from next_data\n",
      "from next_data\n",
      "from next_data\n",
      "from next_data\n",
      "from next_data\n",
      "from next_data\n",
      "from next_data\n",
      "from next_data\n",
      "from next_data\n",
      "from next_data\n",
      "from next_data\n",
      "from next_data\n",
      "from next_data\n",
      "from next_data\n",
      "from next_data\n",
      "from next_data\n",
      "from next_data\n",
      "from next_data\n",
      "from next_data\n"
     ]
    },
    {
     "name": "stderr",
     "output_type": "stream",
     "text": [
      "\r",
      " 90%|█████████ | 9/10 [04:53<00:35, 35.53s/it]"
     ]
    },
    {
     "name": "stdout",
     "output_type": "stream",
     "text": [
      "from next_data\n",
      "from next_data\n",
      "from next_data\n",
      "from next_data\n",
      "from next_data\n",
      "from next_data\n",
      "from next_data\n",
      "from next_data\n",
      "from next_data\n",
      "from next_data\n",
      "from next_data\n",
      "from next_data\n",
      "from next_data\n",
      "from next_data\n",
      "from next_data\n",
      "from next_data\n",
      "from next_data\n",
      "from next_data\n",
      "from next_data\n",
      "from next_data\n",
      "from next_data\n",
      "from next_data\n",
      "from next_data\n",
      "from next_data\n",
      "from next_data\n",
      "from next_data\n",
      "from next_data\n",
      "from next_data\n",
      "from next_data\n",
      "from next_data\n",
      "from next_data\n",
      "from next_data\n",
      "unable to open file /tf/puc19/nanopore/MAP_Data/08_07_16_R9_pUC_BC/MA/downloads/pass/NB08/makeson_PC_20160807_FNFAD20242_MN17284_sequencing_run_MA_470_R9_pUC_g_PCR_BC_08_07_16_93165_ch432_read1037_strand.fast5\n",
      "from next_data\n",
      "from next_data\n",
      "from next_data\n",
      "from next_data\n",
      "from next_data\n",
      "from next_data\n",
      "from next_data\n",
      "from next_data\n",
      "from next_data\n",
      "from next_data\n"
     ]
    },
    {
     "name": "stderr",
     "output_type": "stream",
     "text": [
      "100%|██████████| 10/10 [05:24<00:00, 32.40s/it]"
     ]
    },
    {
     "name": "stdout",
     "output_type": "stream",
     "text": [
      "from next_data\n"
     ]
    },
    {
     "name": "stderr",
     "output_type": "stream",
     "text": [
      "\n"
     ]
    }
   ],
   "source": [
    "X = []\n",
    "modifs_idx = []\n",
    "for _ in tqdm(range(10)):\n",
    "    x, m_idx = next(data_loader)\n",
    "    X.append(x)\n",
    "    modifs_idx.append(m_idx)"
   ]
  },
  {
   "cell_type": "code",
   "execution_count": null,
   "metadata": {},
   "outputs": [],
   "source": [
    "X = np.array(X).reshape(10000, 512, 1)\n",
    "modifs_idx = np.array(modifs_idx).reshape(10000, 1)"
   ]
  },
  {
   "cell_type": "code",
   "execution_count": 98,
   "metadata": {},
   "outputs": [
    {
     "data": {
      "text/plain": [
       "{'mse': 0.009232668, 'modifications mse': 0.022386106}"
      ]
     },
     "execution_count": 98,
     "metadata": {},
     "output_type": "execute_result"
    }
   ],
   "source": [
    "model = load_model(r\"0311/model.01-0.01.h5\")\n",
    "get_mses_of_model(model, X, preds)"
   ]
  },
  {
   "cell_type": "code",
   "execution_count": 100,
   "metadata": {},
   "outputs": [
    {
     "data": {
      "text/plain": [
       "{'mse': 0.0045010294, 'modifications mse': 0.008973277}"
      ]
     },
     "execution_count": 100,
     "metadata": {},
     "output_type": "execute_result"
    }
   ],
   "source": [
    "model = load_model(r\"0311/3_layers_CNN_m2e.h5\")\n",
    "get_mses_of_model(model, X, preds)"
   ]
  },
  {
   "cell_type": "code",
   "execution_count": 99,
   "metadata": {},
   "outputs": [
    {
     "data": {
      "text/plain": [
       "{'mse': 0.0034018802, 'modifications mse': 0.0055936784}"
      ]
     },
     "execution_count": 99,
     "metadata": {},
     "output_type": "execute_result"
    }
   ],
   "source": [
    "model = load_model(r\"0311/model.08-0.00.h5\")\n",
    "get_mses_of_model(model, X, preds)"
   ]
  },
  {
   "cell_type": "code",
   "execution_count": 91,
   "metadata": {},
   "outputs": [
    {
     "data": {
      "text/plain": [
       "(10000, 512, 1)"
      ]
     },
     "execution_count": 91,
     "metadata": {},
     "output_type": "execute_result"
    }
   ],
   "source": [
    "X.shape"
   ]
  },
  {
   "cell_type": "code",
   "execution_count": 94,
   "metadata": {},
   "outputs": [
    {
     "data": {
      "text/plain": [
       "0.022386106"
      ]
     },
     "execution_count": 94,
     "metadata": {},
     "output_type": "execute_result"
    }
   ],
   "source": [
    "np.mean(mse_of_mods)"
   ]
  }
 ],
 "metadata": {
  "kernelspec": {
   "display_name": "Python 3",
   "language": "python",
   "name": "python3"
  },
  "language_info": {
   "codemirror_mode": {
    "name": "ipython",
    "version": 3
   },
   "file_extension": ".py",
   "mimetype": "text/x-python",
   "name": "python",
   "nbconvert_exporter": "python",
   "pygments_lexer": "ipython3",
   "version": "3.6.9"
  }
 },
 "nbformat": 4,
 "nbformat_minor": 4
}
