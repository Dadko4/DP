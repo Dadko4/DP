{
 "cells": [
  {
   "cell_type": "code",
   "execution_count": 1,
   "metadata": {},
   "outputs": [],
   "source": [
    "from data_loader import DataGenerator\n",
    "from datetime import datetime\n",
    "from model import lstm_builder\n",
    "from tensorflow.keras.callbacks import (EarlyStopping, ReduceLROnPlateau,\n",
    "                                        ModelCheckpoint, TensorBoard)\n",
    "from tensorflow.keras.models import load_model\n",
    "from tensorflow.keras.backend import clear_session\n",
    "import numpy as np\n",
    "import warnings\n",
    "from config import (model_config, data_generator_config, load_from_file,\n",
    "                    n_epochs, model_name, tb_logs_path, model_checkpoint_file, test_seq_path)\n",
    "from tensorflow.keras.losses import MSE, MAE\n",
    "from tqdm import tqdm\n",
    "from matplotlib import pyplot as plt\n",
    "from sklearn.metrics import precision_score, recall_score, accuracy_score\n",
    "from matplotlib import pyplot as plt\n",
    "from tqdm import tqdm\n",
    "from sklearn.metrics.pairwise import euclidean_distances\n",
    "np.set_printoptions(suppress=True)\n",
    "n_batches = 320"
   ]
  },
  {
   "cell_type": "code",
   "execution_count": 2,
   "metadata": {},
   "outputs": [],
   "source": [
    "def get_err_of_model(model, X, err_f, shape):\n",
    "    preds = model.predict(X)\n",
    "    errs = err_f(X.reshape(shape), preds.reshape(shape))\n",
    "    err_of_mods = []\n",
    "    for i, m_ix in enumerate(modifs_idx):\n",
    "        if m_ix.shape[0] > 3 and m_ix.shape[0] < 50:\n",
    "            err_of_mods.append(err_f(X[i, m_ix].flatten(),\n",
    "                                     preds[i, m_ix].flatten()))\n",
    "    overall_err_med = np.median(errs)\n",
    "    overall_err_mean = np.mean(errs)\n",
    "    mods_err_med = np.median(err_of_mods)\n",
    "    mods_err_mean = np.mean(err_of_mods)\n",
    "    return {\"err (med, mean)\": (overall_err_med, overall_err_mean), \n",
    "            \"modifications_err (med, mean)\": (mods_err_med, mods_err_mean)}\n",
    "\n",
    "def rolling_window(a, window):\n",
    "    shape = a.shape[:-1] + (a.shape[-1] - window + 1, window)\n",
    "    strides = a.strides + (a.strides[-1],)\n",
    "    return np.lib.stride_tricks.as_strided(a, shape=shape, strides=strides)\n",
    "\n",
    "def get_roll_mses(mse):\n",
    "    roll_mses = []\n",
    "    for idx in rolling_window(np.arange(mse.shape[0]), 4):\n",
    "        roll_mses.append(np.median(mse))\n",
    "    return np.array(roll_mses)\n",
    "\n",
    "def get_y(X, preds, mses, threshold):\n",
    "    y_true = []\n",
    "    y_pred = []\n",
    "    for sample, pred, mse in tqdm(zip(X, preds, mses)):\n",
    "        if np.where(mse > threshold):\n",
    "            y_pred.append(1)\n",
    "        else:\n",
    "            y_pred.append(0)\n",
    "    return y_pred"
   ]
  },
  {
   "cell_type": "code",
   "execution_count": 4,
   "metadata": {},
   "outputs": [
    {
     "data": {
      "text/plain": [
       "{'sample_len': 512,\n",
       " 'batch_size': 1000,\n",
       " 'quality_threshold': 20.5,\n",
       " 'normalize': 'MEDIAN',\n",
       " 'random_sample': True,\n",
       " 'step_len': 64,\n",
       " 'load2ram': False,\n",
       " 'test': True,\n",
       " 'smooth_w_size': 13,\n",
       " 'seq_path': '/tf/puc19/nanopore/MAP_Data/08_07_16_R9_pUC_BC/MA/downloads/pass/NB08/*.fast5'}"
      ]
     },
     "execution_count": 4,
     "metadata": {},
     "output_type": "execute_result"
    }
   ],
   "source": [
    "data_generator_config['quality_threshold'] = 20.5\n",
    "data_generator_config['test'] = True\n",
    "data_generator_config['seq_path'] = test_seq_path\n",
    "data_generator_config['load2ram'] = False\n",
    "data_generator_config['step_len'] = 64\n",
    "data_generator_config['smooth_w_size'] = 13\n",
    "\n",
    "\n",
    "# data_generator_config['motifs'] = [\"CCAGG\", \"CCTGG\", \"GATC\"]\n",
    "data_generator_config"
   ]
  },
  {
   "cell_type": "code",
   "execution_count": 5,
   "metadata": {
    "scrolled": true
   },
   "outputs": [
    {
     "name": "stdout",
     "output_type": "stream",
     "text": [
      "/tf/puc19/nanopore/MAP_Data/08_07_16_R9_pUC_BC/MA/downloads/pass/NB08/*.fast5\n"
     ]
    }
   ],
   "source": [
    "data_loader = DataGenerator(**data_generator_config)"
   ]
  },
  {
   "cell_type": "code",
   "execution_count": 7,
   "metadata": {
    "scrolled": true
   },
   "outputs": [
    {
     "name": "stderr",
     "output_type": "stream",
     "text": [
      " 12%|█▏        | 38/320 [00:55<05:15,  1.12s/it]"
     ]
    },
    {
     "name": "stdout",
     "output_type": "stream",
     "text": [
      "unable to open file /tf/puc19/nanopore/MAP_Data/08_07_16_R9_pUC_BC/MA/downloads/pass/NB08/makeson_PC_20160809_FNFAD20242_MN17284_sequencing_run_MA_470_R9_pUC_g_PCR_BC_2_08_07_16_80510_ch180_read404_strand.fast5\n"
     ]
    },
    {
     "name": "stderr",
     "output_type": "stream",
     "text": [
      " 88%|████████▊ | 280/320 [07:11<00:37,  1.07it/s]"
     ]
    },
    {
     "name": "stdout",
     "output_type": "stream",
     "text": [
      "unable to open file /tf/puc19/nanopore/MAP_Data/08_07_16_R9_pUC_BC/MA/downloads/pass/NB08/makeson_PC_20160807_FNFAD20242_MN17284_sequencing_run_MA_470_R9_pUC_g_PCR_BC_08_07_16_93165_ch432_read1037_strand.fast5\n"
     ]
    },
    {
     "name": "stderr",
     "output_type": "stream",
     "text": [
      "100%|██████████| 320/320 [08:08<00:00,  1.53s/it]\n"
     ]
    }
   ],
   "source": [
    "X = []\n",
    "modifs_idx = []\n",
    "modifs_type = []\n",
    "for _ in tqdm(range(n_batches)):\n",
    "    x, m_idx, type_ = next(data_loader)\n",
    "    X.append(x)\n",
    "    modifs_idx.append(m_idx)\n",
    "    modifs_type.append(type_)"
   ]
  },
  {
   "cell_type": "code",
   "execution_count": 11,
   "metadata": {},
   "outputs": [],
   "source": [
    "X = np.array(X).reshape(n_batches*data_loader.batch_size, \n",
    "                        data_loader.sample_len, 1)\n",
    "shape_ = (n_batches*data_loader.batch_size, data_loader.sample_len)\n",
    "modifs_idx = np.array(modifs_idx).reshape(shape_[0])\n",
    "modifs_idx = modifs_idx.flatten()"
   ]
  },
  {
   "cell_type": "code",
   "execution_count": 12,
   "metadata": {},
   "outputs": [],
   "source": [
    "# from tensorflow.keras import layers\n",
    "# clear_session()\n",
    "# model_lstm = load_model(r\"2202/lstm.h5\", custom_objects={'ELU': layers.ELU})"
   ]
  },
  {
   "cell_type": "code",
   "execution_count": 13,
   "metadata": {},
   "outputs": [],
   "source": [
    "# from notify_run import Notify\n",
    "# from tensorflow.keras import layers\n",
    "\n",
    "# notify = Notify()\n",
    "# notify.register()"
   ]
  },
  {
   "cell_type": "code",
   "execution_count": 14,
   "metadata": {},
   "outputs": [],
   "source": [
    "clear_session()\n",
    "from tensorflow.keras import layers\n",
    "model_lstm = load_model(r\"bigwin/unet.h5\", custom_objects={'ELU': layers.ELU})\n",
    "def mse(y_true, y_pred, ax=1):\n",
    "    mses = ((y_true - y_pred)**2).mean(-1)\n",
    "    return mses\n",
    "\n",
    "def mae(y_true, y_pred, ax=1):\n",
    "    return np.sum(np.absolute(y_true - y_pred), axis=ax)\n",
    "\n",
    "# mse_str = f\"mse: {get_err_of_model(model_lstm, X, mse, shape_)}\"\n",
    "# mae_str = f\"mae: {get_err_of_model(model_lstm, X, mae, shape_)}\"\n",
    "\n",
    "# print(mse_str)\n",
    "# print(mae_str)\n",
    "# notify.send(mse_str)\n",
    "# notify.send(mae_str)\n"
   ]
  },
  {
   "cell_type": "code",
   "execution_count": 17,
   "metadata": {},
   "outputs": [],
   "source": [
    "preds = model_lstm.predict(X)"
   ]
  },
  {
   "cell_type": "code",
   "execution_count": 18,
   "metadata": {},
   "outputs": [
    {
     "name": "stdout",
     "output_type": "stream",
     "text": [
      "mae:  0.05129686468800967\n",
      "mse:  0.00416608759461407\n"
     ]
    }
   ],
   "source": [
    "from sklearn.metrics import mean_squared_error, mean_absolute_error\n",
    "\n",
    "\n",
    "print(\"mae: \", mean_absolute_error(X.reshape(shape_), preds.reshape(shape_)))\n",
    "print(\"mse: \", mean_squared_error(X.reshape(shape_), preds.reshape(shape_)))"
   ]
  },
  {
   "cell_type": "code",
   "execution_count": 19,
   "metadata": {},
   "outputs": [],
   "source": [
    "err_of_mods = []\n",
    "for i, m_ix in enumerate(modifs_idx):\n",
    "    if m_ix.shape[0] > 3 and m_ix.shape[0] < 50:\n",
    "        err_of_mods.append(mean_squared_error(X[i, m_ix].flatten(), preds[i, m_ix].flatten()))"
   ]
  },
  {
   "cell_type": "code",
   "execution_count": 20,
   "metadata": {},
   "outputs": [
    {
     "data": {
      "text/plain": [
       "0.008712327783730432"
      ]
     },
     "execution_count": 20,
     "metadata": {},
     "output_type": "execute_result"
    }
   ],
   "source": [
    "np.mean(err_of_mods)"
   ]
  },
  {
   "cell_type": "code",
   "execution_count": null,
   "metadata": {},
   "outputs": [],
   "source": []
  },
  {
   "cell_type": "code",
   "execution_count": null,
   "metadata": {},
   "outputs": [],
   "source": []
  },
  {
   "cell_type": "code",
   "execution_count": 21,
   "metadata": {},
   "outputs": [],
   "source": [
    "preds_lstm = preds\n",
    "X_shaped = X.reshape(shape_)\n",
    "preds_shaped = preds_lstm.reshape(shape_)"
   ]
  },
  {
   "cell_type": "code",
   "execution_count": 22,
   "metadata": {},
   "outputs": [
    {
     "name": "stdout",
     "output_type": "stream",
     "text": [
      "pred speed _lstm:  0:00:01.744260\n"
     ]
    }
   ],
   "source": [
    "now = datetime.now()\n",
    "model_lstm.predict(X[:1000])\n",
    "print(\"pred speed _lstm: \", datetime.now() - now)"
   ]
  },
  {
   "cell_type": "code",
   "execution_count": 23,
   "metadata": {
    "scrolled": true
   },
   "outputs": [
    {
     "name": "stdout",
     "output_type": "stream",
     "text": [
      "(81823,)\n",
      "(235479,)\n"
     ]
    }
   ],
   "source": [
    "with_modif = np.array([i for i, ix in enumerate(modifs_idx) if 3 < len(ix) < 50])\n",
    "without_modif = np.array([i for i, ix in enumerate(modifs_idx) if not len(ix)])\n",
    "print(with_modif.shape)\n",
    "print(without_modif.shape)"
   ]
  },
  {
   "cell_type": "code",
   "execution_count": 24,
   "metadata": {},
   "outputs": [],
   "source": [
    "without_modif = without_modif[::2]"
   ]
  },
  {
   "cell_type": "code",
   "execution_count": 25,
   "metadata": {},
   "outputs": [],
   "source": [
    "X_cropped = X[:, 100:-100]\n",
    "preds_cropped_lstm = preds_shaped[:, 100:-100]"
   ]
  },
  {
   "cell_type": "code",
   "execution_count": 26,
   "metadata": {},
   "outputs": [],
   "source": [
    "modif_ix = []\n",
    "with_modif_in_middle = []\n",
    "for ix in with_modif:\n",
    "    if modifs_idx[ix][0] > 200 and modifs_idx[ix][-1] < 312:\n",
    "        modif_ix.append(modifs_idx[ix] - 100)\n",
    "        with_modif_in_middle.append(ix)\n",
    "with_modif_in_middle = np.array(with_modif_in_middle)"
   ]
  },
  {
   "cell_type": "code",
   "execution_count": 27,
   "metadata": {
    "scrolled": true
   },
   "outputs": [],
   "source": [
    "X_cropped = X_cropped.reshape(X_cropped.shape[0], X_cropped.shape[1])\n",
    "\n",
    "\n",
    "mae_lstm = np.sum(np.absolute(X_cropped - preds_cropped_lstm), axis=1)\n",
    "mses_lstm = ((X_cropped - preds_cropped_lstm)**2).mean(axis=1)\n",
    "\n",
    "from scipy.spatial.distance import euclidean\n",
    "\n",
    "euc_dist = np.empty_like(mae_lstm)\n",
    "for i, (x, y) in enumerate(zip(X_cropped, preds_cropped_lstm)):\n",
    "    euc_dist[i] = euclidean(x, y)\n",
    "# notify.send(f\"done: {euc_dist.shape}\")\n",
    "# euclidean = [euclidean_distances(X_cropped, preds_cropped_lstm)]"
   ]
  },
  {
   "cell_type": "code",
   "execution_count": 28,
   "metadata": {},
   "outputs": [
    {
     "name": "stdout",
     "output_type": "stream",
     "text": [
      "0.003892698546319951\n",
      "0.00481003411552589\n"
     ]
    }
   ],
   "source": [
    "print(np.mean(mses_lstm[without_modif]))\n",
    "print(np.mean(mses_lstm[with_modif]))\n",
    "# print(np.mean(mae_lstm))"
   ]
  },
  {
   "cell_type": "code",
   "execution_count": 29,
   "metadata": {},
   "outputs": [],
   "source": [
    "without_modif_set = set(without_modif)\n",
    "with_modif_in_middle_set = set(with_modif_in_middle)\n",
    "if len(without_modif_set.intersection(set(with_modif_in_middle))):\n",
    "    raise ValueError(\"hmm\")"
   ]
  },
  {
   "cell_type": "code",
   "execution_count": 30,
   "metadata": {},
   "outputs": [
    {
     "data": {
      "text/plain": [
       "0.7410538376249323"
      ]
     },
     "execution_count": 30,
     "metadata": {},
     "output_type": "execute_result"
    }
   ],
   "source": [
    "np.median(mses_lstm[without_modif]) / np.median(mses_lstm[with_modif_in_middle])"
   ]
  },
  {
   "cell_type": "code",
   "execution_count": 31,
   "metadata": {},
   "outputs": [
    {
     "data": {
      "image/png": "[encoded data removed]",
      "text/plain": [
       "<Figure size 360x432 with 1 Axes>"
      ]
     },
     "metadata": {
      "needs_background": "light"
     },
     "output_type": "display_data"
    },
    {
     "data": {
      "image/png": "[encoded data removed]",
      "text/plain": [
       "<Figure size 360x432 with 1 Axes>"
      ]
     },
     "metadata": {
      "needs_background": "light"
     },
     "output_type": "display_data"
    },
    {
     "data": {
      "image/png": "[encoded data removed]",
      "text/plain": [
       "<Figure size 360x432 with 1 Axes>"
      ]
     },
     "metadata": {
      "needs_background": "light"
     },
     "output_type": "display_data"
    }
   ],
   "source": [
    "avg_mse_with_lstm = mses_lstm[with_modif_in_middle]\n",
    "avg_mse_without_lstm = mses_lstm[without_modif]\n",
    "\n",
    "p_min_without_lstm = np.percentile(avg_mse_without_lstm, 5)\n",
    "p_max_without_lstm = np.percentile(avg_mse_without_lstm, 95)\n",
    "p_min_with_lstm = np.percentile(avg_mse_with_lstm, 5)\n",
    "p_max_with_lstm = np.percentile(avg_mse_with_lstm, 95)\n",
    "without_lstm_avg = avg_mse_without_lstm[(avg_mse_without_lstm > p_min_without_lstm) \n",
    "                              & (avg_mse_without_lstm < p_max_without_lstm)]\n",
    "with_lstm_avg = avg_mse_with_lstm[(avg_mse_with_lstm > p_min_with_lstm) \n",
    "                        & (avg_mse_with_lstm < p_max_with_lstm)]\n",
    "\n",
    "plt.figure(figsize=(5, 6))\n",
    "plt.violinplot([without_lstm_avg, with_lstm_avg], showmedians=True,\n",
    "               positions=[1, 2])\n",
    "plt.xticks([1, 2],\n",
    "           labels = ['bez modifikácie\\nveľkosť hrdla _lstm', \n",
    "                     's modifikáciou\\nveľkosť hrdla _lstm'],\n",
    "          fontsize=14)\n",
    "plt.grid(color='#dee3df')\n",
    "# plt.savefig('violinplots_avg_lstm.png')\n",
    "\n",
    "avg_mse_with_lstm = mae_lstm[with_modif_in_middle]\n",
    "avg_mse_without_lstm = mae_lstm[without_modif]\n",
    "\n",
    "p_min_without_lstm = np.percentile(avg_mse_without_lstm, 5)\n",
    "p_max_without_lstm = np.percentile(avg_mse_without_lstm, 95)\n",
    "p_min_with_lstm = np.percentile(avg_mse_with_lstm, 5)\n",
    "p_max_with_lstm = np.percentile(avg_mse_with_lstm, 95)\n",
    "without_lstm_avg = avg_mse_without_lstm[(avg_mse_without_lstm > p_min_without_lstm) \n",
    "                              & (avg_mse_without_lstm < p_max_without_lstm)]\n",
    "with_lstm_avg = avg_mse_with_lstm[(avg_mse_with_lstm > p_min_with_lstm) \n",
    "                        & (avg_mse_with_lstm < p_max_with_lstm)]\n",
    "\n",
    "plt.figure(figsize=(5, 6))\n",
    "plt.violinplot([without_lstm_avg, with_lstm_avg], showmedians=True,\n",
    "               positions=[1, 2])\n",
    "plt.xticks([1, 2],\n",
    "           labels = ['bez modifikácie\\nveľkosť hrdla _lstm', \n",
    "                     's modifikáciou\\nveľkosť hrdla _lstm'],\n",
    "          fontsize=14)\n",
    "plt.grid(color='#dee3df')\n",
    "\n",
    "avg_mse_with_lstm = euc_dist[with_modif_in_middle]\n",
    "avg_mse_without_lstm = euc_dist[without_modif]\n",
    "\n",
    "p_min_without_lstm = np.percentile(avg_mse_without_lstm, 5)\n",
    "p_max_without_lstm = np.percentile(avg_mse_without_lstm, 95)\n",
    "p_min_with_lstm = np.percentile(avg_mse_with_lstm, 5)\n",
    "p_max_with_lstm = np.percentile(avg_mse_with_lstm, 95)\n",
    "without_lstm_avg = avg_mse_without_lstm[(avg_mse_without_lstm > p_min_without_lstm) \n",
    "                              & (avg_mse_without_lstm < p_max_without_lstm)]\n",
    "with_lstm_avg = avg_mse_with_lstm[(avg_mse_with_lstm > p_min_with_lstm) \n",
    "                        & (avg_mse_with_lstm < p_max_with_lstm)]\n",
    "\n",
    "plt.figure(figsize=(5, 6))\n",
    "plt.violinplot([without_lstm_avg, with_lstm_avg], showmedians=True,\n",
    "               positions=[1, 2])\n",
    "plt.xticks([1, 2],\n",
    "           labels = ['bez modifikácie\\nveľkosť hrdla _lstm', \n",
    "                     's modifikáciou\\nveľkosť hrdla _lstm'],\n",
    "          fontsize=14)\n",
    "plt.grid(color='#dee3df')\n",
    "\n",
    "plt.show()\n",
    "\n"
   ]
  },
  {
   "cell_type": "code",
   "execution_count": 32,
   "metadata": {},
   "outputs": [
    {
     "data": {
      "image/png": "[encoded data removed]",
      "text/plain": [
       "<Figure size 360x432 with 1 Axes>"
      ]
     },
     "metadata": {
      "needs_background": "light"
     },
     "output_type": "display_data"
    },
    {
     "data": {
      "image/png": "[encoded data removed]",
      "text/plain": [
       "<Figure size 360x432 with 1 Axes>"
      ]
     },
     "metadata": {
      "needs_background": "light"
     },
     "output_type": "display_data"
    },
    {
     "data": {
      "image/png": "[encoded data removed]",
      "text/plain": [
       "<Figure size 360x432 with 1 Axes>"
      ]
     },
     "metadata": {
      "needs_background": "light"
     },
     "output_type": "display_data"
    }
   ],
   "source": [
    "avg_mse_with_lstm = mses_lstm[with_modif_in_middle]\n",
    "avg_mse_without_lstm = mses_lstm[without_modif]\n",
    "\n",
    "p_min_without_lstm = np.percentile(avg_mse_without_lstm, 5)\n",
    "p_max_without_lstm = np.percentile(avg_mse_without_lstm, 95)\n",
    "p_min_with_lstm = np.percentile(avg_mse_with_lstm, 5)\n",
    "p_max_with_lstm = np.percentile(avg_mse_with_lstm, 95)\n",
    "without_lstm_avg = avg_mse_without_lstm[(avg_mse_without_lstm > p_min_without_lstm) \n",
    "                              & (avg_mse_without_lstm < p_max_without_lstm)]\n",
    "with_lstm_avg = avg_mse_with_lstm[(avg_mse_with_lstm > p_min_with_lstm) \n",
    "                        & (avg_mse_with_lstm < p_max_with_lstm)]\n",
    "\n",
    "plt.figure(figsize=(5, 6))\n",
    "plt.boxplot([without_lstm_avg, with_lstm_avg], positions=[1, 2])\n",
    "plt.xticks([1, 2],\n",
    "           labels = ['bez modifikácie\\nveľkosť hrdla _lstm', \n",
    "                     's modifikáciou\\nveľkosť hrdla _lstm'],\n",
    "          fontsize=14)\n",
    "plt.grid(color='#dee3df')\n",
    "# plt.savefig('violinplots_avg_lstm.png')\n",
    "\n",
    "avg_mse_with_lstm = mae_lstm[with_modif_in_middle]\n",
    "avg_mse_without_lstm = mae_lstm[without_modif]\n",
    "\n",
    "p_min_without_lstm = np.percentile(avg_mse_without_lstm, 5)\n",
    "p_max_without_lstm = np.percentile(avg_mse_without_lstm, 95)\n",
    "p_min_with_lstm = np.percentile(avg_mse_with_lstm, 5)\n",
    "p_max_with_lstm = np.percentile(avg_mse_with_lstm, 95)\n",
    "without_lstm_avg = avg_mse_without_lstm[(avg_mse_without_lstm > p_min_without_lstm) \n",
    "                              & (avg_mse_without_lstm < p_max_without_lstm)]\n",
    "with_lstm_avg = avg_mse_with_lstm[(avg_mse_with_lstm > p_min_with_lstm) \n",
    "                        & (avg_mse_with_lstm < p_max_with_lstm)]\n",
    "\n",
    "plt.figure(figsize=(5, 6))\n",
    "plt.boxplot([without_lstm_avg, with_lstm_avg], positions=[1, 2])\n",
    "plt.xticks([1, 2],\n",
    "           labels = ['bez modifikácie\\nveľkosť hrdla _lstm', \n",
    "                     's modifikáciou\\nveľkosť hrdla _lstm'],\n",
    "          fontsize=14)\n",
    "plt.grid(color='#dee3df')\n",
    "\n",
    "avg_mse_with_lstm = euc_dist[with_modif_in_middle]\n",
    "avg_mse_without_lstm = euc_dist[without_modif]\n",
    "\n",
    "p_min_without_lstm = np.percentile(avg_mse_without_lstm, 5)\n",
    "p_max_without_lstm = np.percentile(avg_mse_without_lstm, 95)\n",
    "p_min_with_lstm = np.percentile(avg_mse_with_lstm, 5)\n",
    "p_max_with_lstm = np.percentile(avg_mse_with_lstm, 95)\n",
    "without_lstm_avg = avg_mse_without_lstm[(avg_mse_without_lstm > p_min_without_lstm) \n",
    "                              & (avg_mse_without_lstm < p_max_without_lstm)]\n",
    "with_lstm_avg = avg_mse_with_lstm[(avg_mse_with_lstm > p_min_with_lstm) \n",
    "                        & (avg_mse_with_lstm < p_max_with_lstm)]\n",
    "\n",
    "plt.figure(figsize=(5, 6))\n",
    "plt.boxplot([without_lstm_avg, with_lstm_avg], positions=[1, 2])\n",
    "plt.xticks([1, 2],\n",
    "           labels = ['bez modifikácie\\nveľkosť hrdla _lstm', \n",
    "                     's modifikáciou\\nveľkosť hrdla _lstm'],\n",
    "          fontsize=14)\n",
    "plt.grid(color='#dee3df')\n",
    "\n",
    "plt.show()\n",
    "\n"
   ]
  },
  {
   "cell_type": "code",
   "execution_count": 35,
   "metadata": {},
   "outputs": [
    {
     "data": {
      "text/plain": [
       "0.8608448396616064"
      ]
     },
     "execution_count": 35,
     "metadata": {},
     "output_type": "execute_result"
    }
   ],
   "source": [
    "np.median(without_lstm_avg) / np.median(with_lstm_avg)\n"
   ]
  },
  {
   "cell_type": "code",
   "execution_count": null,
   "metadata": {},
   "outputs": [],
   "source": [
    "np.median(without_lstm_avg) / np.median(with_lstm_avg)\n"
   ]
  },
  {
   "cell_type": "code",
   "execution_count": 44,
   "metadata": {},
   "outputs": [
    {
     "name": "stdout",
     "output_type": "stream",
     "text": [
      "8424\n"
     ]
    },
    {
     "data": {
      "text/plain": [
       "(4819,)"
      ]
     },
     "execution_count": 44,
     "metadata": {},
     "output_type": "execute_result"
    }
   ],
   "source": [
    "thr = np.percentile(euc_dist[without_modif], 75)\n",
    "print(len(with_modif_in_middle))\n",
    "np.where(euc_dist[with_modif_in_middle] > thr)[0].shape\n"
   ]
  },
  {
   "cell_type": "code",
   "execution_count": 26,
   "metadata": {},
   "outputs": [
    {
     "data": {
      "text/plain": [
       "40"
      ]
     },
     "execution_count": 26,
     "metadata": {},
     "output_type": "execute_result"
    }
   ],
   "source": [
    "import os\n",
    "from datetime import datetime\n",
    "os.cpu_count()"
   ]
  },
  {
   "cell_type": "code",
   "execution_count": 31,
   "metadata": {},
   "outputs": [],
   "source": [
    "mses = ((X_cropped - preds_cropped_lstm)**2)\n",
    "train_mses = mses[without_modif]\n",
    "test_mses = mses[with_modif_in_middle]"
   ]
  },
  {
   "cell_type": "code",
   "execution_count": 32,
   "metadata": {},
   "outputs": [
    {
     "data": {
      "text/plain": [
       "array([[0.00003654, 0.00002527, 0.00002913, ..., 0.00240157, 0.00172555,\n",
       "        0.0014035 ],\n",
       "       [0.00080543, 0.001151  , 0.00105504, ..., 0.00282423, 0.00232999,\n",
       "        0.00213665],\n",
       "       [0.00896624, 0.00946945, 0.00945288, ..., 0.00577994, 0.00023917,\n",
       "        0.00367314],\n",
       "       ...,\n",
       "       [0.00211696, 0.00309456, 0.00366904, ..., 0.00014715, 0.00039624,\n",
       "        0.0005839 ],\n",
       "       [0.000005  , 0.00000776, 0.00002454, ..., 0.00008965, 0.00030589,\n",
       "        0.00015085],\n",
       "       [0.00025154, 0.0002384 , 0.00028418, ..., 0.00004923, 0.00002908,\n",
       "        0.00003422]])"
      ]
     },
     "execution_count": 32,
     "metadata": {},
     "output_type": "execute_result"
    }
   ],
   "source": [
    "train_mses"
   ]
  },
  {
   "cell_type": "code",
   "execution_count": 33,
   "metadata": {},
   "outputs": [],
   "source": [
    "def axis1_wrapper(f, x):\n",
    "    return f(x, axis=-1)"
   ]
  },
  {
   "cell_type": "code",
   "execution_count": 34,
   "metadata": {},
   "outputs": [],
   "source": [
    "from collections import Counter\n",
    "def percentile1(x, axis=1):\n",
    "    return np.percentile(x, 25, axis=axis)\n",
    "def percentile2(x, axis=1):\n",
    "    return np.percentile(x, 75, axis=axis)\n",
    "def num_higher_mean(x, axis=1):\n",
    "    means = x.mean(1)\n",
    "    nums = np.array([np.where(xx > mean_)[0].shape[0]\n",
    "                     for xx, mean_ in zip(x, means)])\n",
    "    return nums"
   ]
  },
  {
   "cell_type": "code",
   "execution_count": 35,
   "metadata": {},
   "outputs": [
    {
     "ename": "NameError",
     "evalue": "name 'os' is not defined",
     "output_type": "error",
     "traceback": [
      "\u001b[0;31m\u001b[0m",
      "\u001b[0;31mNameError\u001b[0mTraceback (most recent call last)",
      "\u001b[0;32m<ipython-input-35-cf4547e45aba>\u001b[0m in \u001b[0;36m<module>\u001b[0;34m\u001b[0m\n\u001b[0;32m----> 1\u001b[0;31m \u001b[0mos\u001b[0m\u001b[0;34m.\u001b[0m\u001b[0mcpu_count\u001b[0m\u001b[0;34m(\u001b[0m\u001b[0;34m)\u001b[0m\u001b[0;34m\u001b[0m\u001b[0;34m\u001b[0m\u001b[0m\n\u001b[0m",
      "\u001b[0;31mNameError\u001b[0m: name 'os' is not defined"
     ]
    }
   ],
   "source": [
    "os.cpu_count()"
   ]
  },
  {
   "cell_type": "code",
   "execution_count": 36,
   "metadata": {},
   "outputs": [],
   "source": [
    "functions = [np.mean, np.median, np.ptp, percentile1,\n",
    "             percentile2, np.std, np.var, np.argmax, np.argmin,\n",
    "             np.max, np.min, np.sum, np.prod, num_higher_mean]"
   ]
  },
  {
   "cell_type": "code",
   "execution_count": 37,
   "metadata": {},
   "outputs": [
    {
     "name": "stderr",
     "output_type": "stream",
     "text": [
      "100%|██████████| 14/14 [00:08<00:00,  1.62it/s]\n"
     ]
    }
   ],
   "source": [
    "train_columns = []\n",
    "test_columns = []\n",
    "for f in tqdm(functions):\n",
    "    train_columns.append(axis1_wrapper(f, train_mses))\n",
    "    test_columns.append(axis1_wrapper(f, test_mses))\n",
    "X = np.column_stack(train_columns)\n",
    "X_test = np.column_stack(test_columns)"
   ]
  },
  {
   "cell_type": "code",
   "execution_count": 38,
   "metadata": {},
   "outputs": [],
   "source": [
    "from sklearn.svm import OneClassSVM\n",
    "from sklearn.ensemble import IsolationForest\n",
    "from sklearn.pipeline import make_pipeline\n",
    "from sklearn.preprocessing import Normalizer, MinMaxScaler\n",
    "from sklearn.model_selection import train_test_split\n",
    "\n",
    "X_train, X_val = train_test_split(X, test_size=0.2, shuffle=True, random_state=1)\n",
    "\n",
    "scaler = MinMaxScaler()\n",
    "X_train = scaler.fit_transform(X_train)\n",
    "X_val = scaler.transform(X_val)\n",
    "X_test = scaler.transform(X_test)\n",
    "\n",
    "import pickle\n",
    "\n",
    "with open(\"X_unet.pickle\",\"wb\") as f:\n",
    "    pickle.dump(scaler, f)\n",
    "    pickle.dump(X_train, f)\n",
    "    pickle.dump(X_val, f)\n",
    "    pickle.dump(X_test, f)\n",
    "\n",
    "# idx = np.random.randint(0, X.shape[0], 320000)\n",
    "# now = datetime.now()\n",
    "# clf = make_pipeline(Normalizer(), OneClassSVM(gamma='auto'))\n",
    "# clf = OneClassSVM(cache_size=128000)\n",
    "# clf = IsolationForest(n_jobs=32)\n",
    "# clf.fit(X[idx])\n",
    "# print(datetime.now() - now)"
   ]
  },
  {
   "cell_type": "code",
   "execution_count": null,
   "metadata": {},
   "outputs": [],
   "source": []
  }
 ],
 "metadata": {
  "kernelspec": {
   "display_name": "Python 3",
   "language": "python",
   "name": "python3"
  },
  "language_info": {
   "codemirror_mode": {
    "name": "ipython",
    "version": 3
   },
   "file_extension": ".py",
   "mimetype": "text/x-python",
   "name": "python",
   "nbconvert_exporter": "python",
   "pygments_lexer": "ipython3",
   "version": "3.6.9"
  }
 },
 "nbformat": 4,
 "nbformat_minor": 4
}
